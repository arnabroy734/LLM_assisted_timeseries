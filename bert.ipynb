{
 "cells": [
  {
   "cell_type": "code",
   "execution_count": 1,
   "id": "75dabd17-326d-4109-9ce4-e02d344efb2f",
   "metadata": {},
   "outputs": [],
   "source": [
    "import re\n",
    "import pandas as pd\n",
    "import numpy as np\n",
    "import matplotlib.pyplot as plt\n",
    "from pathlib import Path\n",
    "import torch\n",
    "from torch.utils.data import DataLoader, Dataset\n",
    "from sklearn.preprocessing import StandardScaler\n",
    "from torch import nn\n",
    "import pickle\n",
    "from sklearn.metrics import mean_squared_error"
   ]
  },
  {
   "cell_type": "markdown",
   "id": "ac92adbe-ba02-4e0a-aa72-f1a1637e44c5",
   "metadata": {},
   "source": [
    "## Text data preprocessing"
   ]
  },
  {
   "cell_type": "code",
   "execution_count": 3,
   "id": "2f0259e6-c23b-4e2a-9414-79baddcc06e2",
   "metadata": {},
   "outputs": [
    {
     "name": "stdout",
     "output_type": "stream",
     "text": [
      "(1113, 2)\n"
     ]
    }
   ],
   "source": [
    "path = Path.cwd()/'data'/'gasoline.csv'\n",
    "data = pd.read_csv(path)\n",
    "data['date'] = pd.to_datetime(data['date'])\n",
    "data.set_index('date', inplace=True)\n",
    "oil_price = data[['OT', 'Final_Search_2']]\n",
    "oil_price.columns = ['price', 'news']\n",
    "oil_price = oil_price.loc[\"2003-01-01\":]\n",
    "print(oil_price.shape)"
   ]
  },
  {
   "cell_type": "code",
   "execution_count": 4,
   "id": "8c25011e-a13d-410d-9b07-46d9ebe8d2d2",
   "metadata": {},
   "outputs": [],
   "source": [
    "def trim_sentence(sentence):\n",
    "    clean = re.sub(r'^Available facts are as follows:\\s*', \"\", sentence)\n",
    "    return clean\n",
    "def remove_source(sentence):\n",
    "    clean = re.sub(r'\\[Source(:.*?)?\\]', \"\", sentence)\n",
    "    return clean\n",
    "def remove_space(sentence):\n",
    "    clean = re.sub(r\";\", \" \", sentence)\n",
    "    clean = re.sub(r\"\\s+\", \" \", clean).strip()\n",
    "    return clean\n",
    "def preprocess_text(sentence, date, price):\n",
    "    clean = trim_sentence(sentence)\n",
    "    clean = remove_source(clean)\n",
    "    clean = remove_space(clean)\n",
    "    clean = f\"today price {price}. \" + f\"today is {date.year}-{date.month}-{date.day}. \" + clean \n",
    "    return clean"
   ]
  },
  {
   "cell_type": "code",
   "execution_count": 5,
   "id": "cea5c0a8-03a1-4761-8b4b-db8050788b91",
   "metadata": {},
   "outputs": [],
   "source": [
    "oil_price.news = list(map(preprocess_text, oil_price.news, oil_price.index, oil_price.price))"
   ]
  },
  {
   "cell_type": "code",
   "execution_count": 7,
   "id": "ac383fee-96d1-435c-b3bd-499d236f1e6a",
   "metadata": {},
   "outputs": [
    {
     "data": {
      "text/plain": [
       "\"today price 1.956. today is 2004-12-6. 2004-11-29: The price of oil and natural gas has a significant impact on the economy, particularly in regions that rely heavily on these energy sources. The cost of wind power is decreasing, making it a more viable alternative to fossil fuels. The gasoline tax accounts for a significant portion of the retail gasoline price. 2004-11-22: The United States' oil production peaked in 1970, as predicted by Hubbert's theory. In the case of crude oil, the amount obtainable from fat was used as fuel for lamps. The price of oil affects the investment and production of hydrocarbons. In November 2004, oil price pressures eased due to increased assurances about the adequacy of US winter fuel supplies.\""
      ]
     },
     "execution_count": 7,
     "metadata": {},
     "output_type": "execute_result"
    }
   ],
   "source": [
    "oil_price.news.iloc[100]"
   ]
  },
  {
   "cell_type": "code",
   "execution_count": 12,
   "id": "99e6ff79-237d-45e0-a96b-f143bd4ee09d",
   "metadata": {},
   "outputs": [
    {
     "name": "stdout",
     "output_type": "stream",
     "text": [
      "(556, 2)\n",
      "(557, 2)\n"
     ]
    }
   ],
   "source": [
    "tr_size = int(oil_price.shape[0]*0.5)\n",
    "test_size = oil_price.shape[0] - tr_size\n",
    "train, test = oil_price[:tr_size], oil_price[tr_size:]\n",
    "print(train.shape)\n",
    "print(test.shape)"
   ]
  },
  {
   "cell_type": "code",
   "execution_count": 14,
   "id": "6195dac2-b4a7-4697-8a62-4d365024610b",
   "metadata": {},
   "outputs": [
    {
     "data": {
      "text/html": [
       "<style>#sk-container-id-1 {\n",
       "  /* Definition of color scheme common for light and dark mode */\n",
       "  --sklearn-color-text: black;\n",
       "  --sklearn-color-line: gray;\n",
       "  /* Definition of color scheme for unfitted estimators */\n",
       "  --sklearn-color-unfitted-level-0: #fff5e6;\n",
       "  --sklearn-color-unfitted-level-1: #f6e4d2;\n",
       "  --sklearn-color-unfitted-level-2: #ffe0b3;\n",
       "  --sklearn-color-unfitted-level-3: chocolate;\n",
       "  /* Definition of color scheme for fitted estimators */\n",
       "  --sklearn-color-fitted-level-0: #f0f8ff;\n",
       "  --sklearn-color-fitted-level-1: #d4ebff;\n",
       "  --sklearn-color-fitted-level-2: #b3dbfd;\n",
       "  --sklearn-color-fitted-level-3: cornflowerblue;\n",
       "\n",
       "  /* Specific color for light theme */\n",
       "  --sklearn-color-text-on-default-background: var(--sg-text-color, var(--theme-code-foreground, var(--jp-content-font-color1, black)));\n",
       "  --sklearn-color-background: var(--sg-background-color, var(--theme-background, var(--jp-layout-color0, white)));\n",
       "  --sklearn-color-border-box: var(--sg-text-color, var(--theme-code-foreground, var(--jp-content-font-color1, black)));\n",
       "  --sklearn-color-icon: #696969;\n",
       "\n",
       "  @media (prefers-color-scheme: dark) {\n",
       "    /* Redefinition of color scheme for dark theme */\n",
       "    --sklearn-color-text-on-default-background: var(--sg-text-color, var(--theme-code-foreground, var(--jp-content-font-color1, white)));\n",
       "    --sklearn-color-background: var(--sg-background-color, var(--theme-background, var(--jp-layout-color0, #111)));\n",
       "    --sklearn-color-border-box: var(--sg-text-color, var(--theme-code-foreground, var(--jp-content-font-color1, white)));\n",
       "    --sklearn-color-icon: #878787;\n",
       "  }\n",
       "}\n",
       "\n",
       "#sk-container-id-1 {\n",
       "  color: var(--sklearn-color-text);\n",
       "}\n",
       "\n",
       "#sk-container-id-1 pre {\n",
       "  padding: 0;\n",
       "}\n",
       "\n",
       "#sk-container-id-1 input.sk-hidden--visually {\n",
       "  border: 0;\n",
       "  clip: rect(1px 1px 1px 1px);\n",
       "  clip: rect(1px, 1px, 1px, 1px);\n",
       "  height: 1px;\n",
       "  margin: -1px;\n",
       "  overflow: hidden;\n",
       "  padding: 0;\n",
       "  position: absolute;\n",
       "  width: 1px;\n",
       "}\n",
       "\n",
       "#sk-container-id-1 div.sk-dashed-wrapped {\n",
       "  border: 1px dashed var(--sklearn-color-line);\n",
       "  margin: 0 0.4em 0.5em 0.4em;\n",
       "  box-sizing: border-box;\n",
       "  padding-bottom: 0.4em;\n",
       "  background-color: var(--sklearn-color-background);\n",
       "}\n",
       "\n",
       "#sk-container-id-1 div.sk-container {\n",
       "  /* jupyter's `normalize.less` sets `[hidden] { display: none; }`\n",
       "     but bootstrap.min.css set `[hidden] { display: none !important; }`\n",
       "     so we also need the `!important` here to be able to override the\n",
       "     default hidden behavior on the sphinx rendered scikit-learn.org.\n",
       "     See: https://github.com/scikit-learn/scikit-learn/issues/21755 */\n",
       "  display: inline-block !important;\n",
       "  position: relative;\n",
       "}\n",
       "\n",
       "#sk-container-id-1 div.sk-text-repr-fallback {\n",
       "  display: none;\n",
       "}\n",
       "\n",
       "div.sk-parallel-item,\n",
       "div.sk-serial,\n",
       "div.sk-item {\n",
       "  /* draw centered vertical line to link estimators */\n",
       "  background-image: linear-gradient(var(--sklearn-color-text-on-default-background), var(--sklearn-color-text-on-default-background));\n",
       "  background-size: 2px 100%;\n",
       "  background-repeat: no-repeat;\n",
       "  background-position: center center;\n",
       "}\n",
       "\n",
       "/* Parallel-specific style estimator block */\n",
       "\n",
       "#sk-container-id-1 div.sk-parallel-item::after {\n",
       "  content: \"\";\n",
       "  width: 100%;\n",
       "  border-bottom: 2px solid var(--sklearn-color-text-on-default-background);\n",
       "  flex-grow: 1;\n",
       "}\n",
       "\n",
       "#sk-container-id-1 div.sk-parallel {\n",
       "  display: flex;\n",
       "  align-items: stretch;\n",
       "  justify-content: center;\n",
       "  background-color: var(--sklearn-color-background);\n",
       "  position: relative;\n",
       "}\n",
       "\n",
       "#sk-container-id-1 div.sk-parallel-item {\n",
       "  display: flex;\n",
       "  flex-direction: column;\n",
       "}\n",
       "\n",
       "#sk-container-id-1 div.sk-parallel-item:first-child::after {\n",
       "  align-self: flex-end;\n",
       "  width: 50%;\n",
       "}\n",
       "\n",
       "#sk-container-id-1 div.sk-parallel-item:last-child::after {\n",
       "  align-self: flex-start;\n",
       "  width: 50%;\n",
       "}\n",
       "\n",
       "#sk-container-id-1 div.sk-parallel-item:only-child::after {\n",
       "  width: 0;\n",
       "}\n",
       "\n",
       "/* Serial-specific style estimator block */\n",
       "\n",
       "#sk-container-id-1 div.sk-serial {\n",
       "  display: flex;\n",
       "  flex-direction: column;\n",
       "  align-items: center;\n",
       "  background-color: var(--sklearn-color-background);\n",
       "  padding-right: 1em;\n",
       "  padding-left: 1em;\n",
       "}\n",
       "\n",
       "\n",
       "/* Toggleable style: style used for estimator/Pipeline/ColumnTransformer box that is\n",
       "clickable and can be expanded/collapsed.\n",
       "- Pipeline and ColumnTransformer use this feature and define the default style\n",
       "- Estimators will overwrite some part of the style using the `sk-estimator` class\n",
       "*/\n",
       "\n",
       "/* Pipeline and ColumnTransformer style (default) */\n",
       "\n",
       "#sk-container-id-1 div.sk-toggleable {\n",
       "  /* Default theme specific background. It is overwritten whether we have a\n",
       "  specific estimator or a Pipeline/ColumnTransformer */\n",
       "  background-color: var(--sklearn-color-background);\n",
       "}\n",
       "\n",
       "/* Toggleable label */\n",
       "#sk-container-id-1 label.sk-toggleable__label {\n",
       "  cursor: pointer;\n",
       "  display: block;\n",
       "  width: 100%;\n",
       "  margin-bottom: 0;\n",
       "  padding: 0.5em;\n",
       "  box-sizing: border-box;\n",
       "  text-align: center;\n",
       "}\n",
       "\n",
       "#sk-container-id-1 label.sk-toggleable__label-arrow:before {\n",
       "  /* Arrow on the left of the label */\n",
       "  content: \"▸\";\n",
       "  float: left;\n",
       "  margin-right: 0.25em;\n",
       "  color: var(--sklearn-color-icon);\n",
       "}\n",
       "\n",
       "#sk-container-id-1 label.sk-toggleable__label-arrow:hover:before {\n",
       "  color: var(--sklearn-color-text);\n",
       "}\n",
       "\n",
       "/* Toggleable content - dropdown */\n",
       "\n",
       "#sk-container-id-1 div.sk-toggleable__content {\n",
       "  max-height: 0;\n",
       "  max-width: 0;\n",
       "  overflow: hidden;\n",
       "  text-align: left;\n",
       "  /* unfitted */\n",
       "  background-color: var(--sklearn-color-unfitted-level-0);\n",
       "}\n",
       "\n",
       "#sk-container-id-1 div.sk-toggleable__content.fitted {\n",
       "  /* fitted */\n",
       "  background-color: var(--sklearn-color-fitted-level-0);\n",
       "}\n",
       "\n",
       "#sk-container-id-1 div.sk-toggleable__content pre {\n",
       "  margin: 0.2em;\n",
       "  border-radius: 0.25em;\n",
       "  color: var(--sklearn-color-text);\n",
       "  /* unfitted */\n",
       "  background-color: var(--sklearn-color-unfitted-level-0);\n",
       "}\n",
       "\n",
       "#sk-container-id-1 div.sk-toggleable__content.fitted pre {\n",
       "  /* unfitted */\n",
       "  background-color: var(--sklearn-color-fitted-level-0);\n",
       "}\n",
       "\n",
       "#sk-container-id-1 input.sk-toggleable__control:checked~div.sk-toggleable__content {\n",
       "  /* Expand drop-down */\n",
       "  max-height: 200px;\n",
       "  max-width: 100%;\n",
       "  overflow: auto;\n",
       "}\n",
       "\n",
       "#sk-container-id-1 input.sk-toggleable__control:checked~label.sk-toggleable__label-arrow:before {\n",
       "  content: \"▾\";\n",
       "}\n",
       "\n",
       "/* Pipeline/ColumnTransformer-specific style */\n",
       "\n",
       "#sk-container-id-1 div.sk-label input.sk-toggleable__control:checked~label.sk-toggleable__label {\n",
       "  color: var(--sklearn-color-text);\n",
       "  background-color: var(--sklearn-color-unfitted-level-2);\n",
       "}\n",
       "\n",
       "#sk-container-id-1 div.sk-label.fitted input.sk-toggleable__control:checked~label.sk-toggleable__label {\n",
       "  background-color: var(--sklearn-color-fitted-level-2);\n",
       "}\n",
       "\n",
       "/* Estimator-specific style */\n",
       "\n",
       "/* Colorize estimator box */\n",
       "#sk-container-id-1 div.sk-estimator input.sk-toggleable__control:checked~label.sk-toggleable__label {\n",
       "  /* unfitted */\n",
       "  background-color: var(--sklearn-color-unfitted-level-2);\n",
       "}\n",
       "\n",
       "#sk-container-id-1 div.sk-estimator.fitted input.sk-toggleable__control:checked~label.sk-toggleable__label {\n",
       "  /* fitted */\n",
       "  background-color: var(--sklearn-color-fitted-level-2);\n",
       "}\n",
       "\n",
       "#sk-container-id-1 div.sk-label label.sk-toggleable__label,\n",
       "#sk-container-id-1 div.sk-label label {\n",
       "  /* The background is the default theme color */\n",
       "  color: var(--sklearn-color-text-on-default-background);\n",
       "}\n",
       "\n",
       "/* On hover, darken the color of the background */\n",
       "#sk-container-id-1 div.sk-label:hover label.sk-toggleable__label {\n",
       "  color: var(--sklearn-color-text);\n",
       "  background-color: var(--sklearn-color-unfitted-level-2);\n",
       "}\n",
       "\n",
       "/* Label box, darken color on hover, fitted */\n",
       "#sk-container-id-1 div.sk-label.fitted:hover label.sk-toggleable__label.fitted {\n",
       "  color: var(--sklearn-color-text);\n",
       "  background-color: var(--sklearn-color-fitted-level-2);\n",
       "}\n",
       "\n",
       "/* Estimator label */\n",
       "\n",
       "#sk-container-id-1 div.sk-label label {\n",
       "  font-family: monospace;\n",
       "  font-weight: bold;\n",
       "  display: inline-block;\n",
       "  line-height: 1.2em;\n",
       "}\n",
       "\n",
       "#sk-container-id-1 div.sk-label-container {\n",
       "  text-align: center;\n",
       "}\n",
       "\n",
       "/* Estimator-specific */\n",
       "#sk-container-id-1 div.sk-estimator {\n",
       "  font-family: monospace;\n",
       "  border: 1px dotted var(--sklearn-color-border-box);\n",
       "  border-radius: 0.25em;\n",
       "  box-sizing: border-box;\n",
       "  margin-bottom: 0.5em;\n",
       "  /* unfitted */\n",
       "  background-color: var(--sklearn-color-unfitted-level-0);\n",
       "}\n",
       "\n",
       "#sk-container-id-1 div.sk-estimator.fitted {\n",
       "  /* fitted */\n",
       "  background-color: var(--sklearn-color-fitted-level-0);\n",
       "}\n",
       "\n",
       "/* on hover */\n",
       "#sk-container-id-1 div.sk-estimator:hover {\n",
       "  /* unfitted */\n",
       "  background-color: var(--sklearn-color-unfitted-level-2);\n",
       "}\n",
       "\n",
       "#sk-container-id-1 div.sk-estimator.fitted:hover {\n",
       "  /* fitted */\n",
       "  background-color: var(--sklearn-color-fitted-level-2);\n",
       "}\n",
       "\n",
       "/* Specification for estimator info (e.g. \"i\" and \"?\") */\n",
       "\n",
       "/* Common style for \"i\" and \"?\" */\n",
       "\n",
       ".sk-estimator-doc-link,\n",
       "a:link.sk-estimator-doc-link,\n",
       "a:visited.sk-estimator-doc-link {\n",
       "  float: right;\n",
       "  font-size: smaller;\n",
       "  line-height: 1em;\n",
       "  font-family: monospace;\n",
       "  background-color: var(--sklearn-color-background);\n",
       "  border-radius: 1em;\n",
       "  height: 1em;\n",
       "  width: 1em;\n",
       "  text-decoration: none !important;\n",
       "  margin-left: 1ex;\n",
       "  /* unfitted */\n",
       "  border: var(--sklearn-color-unfitted-level-1) 1pt solid;\n",
       "  color: var(--sklearn-color-unfitted-level-1);\n",
       "}\n",
       "\n",
       ".sk-estimator-doc-link.fitted,\n",
       "a:link.sk-estimator-doc-link.fitted,\n",
       "a:visited.sk-estimator-doc-link.fitted {\n",
       "  /* fitted */\n",
       "  border: var(--sklearn-color-fitted-level-1) 1pt solid;\n",
       "  color: var(--sklearn-color-fitted-level-1);\n",
       "}\n",
       "\n",
       "/* On hover */\n",
       "div.sk-estimator:hover .sk-estimator-doc-link:hover,\n",
       ".sk-estimator-doc-link:hover,\n",
       "div.sk-label-container:hover .sk-estimator-doc-link:hover,\n",
       ".sk-estimator-doc-link:hover {\n",
       "  /* unfitted */\n",
       "  background-color: var(--sklearn-color-unfitted-level-3);\n",
       "  color: var(--sklearn-color-background);\n",
       "  text-decoration: none;\n",
       "}\n",
       "\n",
       "div.sk-estimator.fitted:hover .sk-estimator-doc-link.fitted:hover,\n",
       ".sk-estimator-doc-link.fitted:hover,\n",
       "div.sk-label-container:hover .sk-estimator-doc-link.fitted:hover,\n",
       ".sk-estimator-doc-link.fitted:hover {\n",
       "  /* fitted */\n",
       "  background-color: var(--sklearn-color-fitted-level-3);\n",
       "  color: var(--sklearn-color-background);\n",
       "  text-decoration: none;\n",
       "}\n",
       "\n",
       "/* Span, style for the box shown on hovering the info icon */\n",
       ".sk-estimator-doc-link span {\n",
       "  display: none;\n",
       "  z-index: 9999;\n",
       "  position: relative;\n",
       "  font-weight: normal;\n",
       "  right: .2ex;\n",
       "  padding: .5ex;\n",
       "  margin: .5ex;\n",
       "  width: min-content;\n",
       "  min-width: 20ex;\n",
       "  max-width: 50ex;\n",
       "  color: var(--sklearn-color-text);\n",
       "  box-shadow: 2pt 2pt 4pt #999;\n",
       "  /* unfitted */\n",
       "  background: var(--sklearn-color-unfitted-level-0);\n",
       "  border: .5pt solid var(--sklearn-color-unfitted-level-3);\n",
       "}\n",
       "\n",
       ".sk-estimator-doc-link.fitted span {\n",
       "  /* fitted */\n",
       "  background: var(--sklearn-color-fitted-level-0);\n",
       "  border: var(--sklearn-color-fitted-level-3);\n",
       "}\n",
       "\n",
       ".sk-estimator-doc-link:hover span {\n",
       "  display: block;\n",
       "}\n",
       "\n",
       "/* \"?\"-specific style due to the `<a>` HTML tag */\n",
       "\n",
       "#sk-container-id-1 a.estimator_doc_link {\n",
       "  float: right;\n",
       "  font-size: 1rem;\n",
       "  line-height: 1em;\n",
       "  font-family: monospace;\n",
       "  background-color: var(--sklearn-color-background);\n",
       "  border-radius: 1rem;\n",
       "  height: 1rem;\n",
       "  width: 1rem;\n",
       "  text-decoration: none;\n",
       "  /* unfitted */\n",
       "  color: var(--sklearn-color-unfitted-level-1);\n",
       "  border: var(--sklearn-color-unfitted-level-1) 1pt solid;\n",
       "}\n",
       "\n",
       "#sk-container-id-1 a.estimator_doc_link.fitted {\n",
       "  /* fitted */\n",
       "  border: var(--sklearn-color-fitted-level-1) 1pt solid;\n",
       "  color: var(--sklearn-color-fitted-level-1);\n",
       "}\n",
       "\n",
       "/* On hover */\n",
       "#sk-container-id-1 a.estimator_doc_link:hover {\n",
       "  /* unfitted */\n",
       "  background-color: var(--sklearn-color-unfitted-level-3);\n",
       "  color: var(--sklearn-color-background);\n",
       "  text-decoration: none;\n",
       "}\n",
       "\n",
       "#sk-container-id-1 a.estimator_doc_link.fitted:hover {\n",
       "  /* fitted */\n",
       "  background-color: var(--sklearn-color-fitted-level-3);\n",
       "}\n",
       "</style><div id=\"sk-container-id-1\" class=\"sk-top-container\"><div class=\"sk-text-repr-fallback\"><pre>StandardScaler()</pre><b>In a Jupyter environment, please rerun this cell to show the HTML representation or trust the notebook. <br />On GitHub, the HTML representation is unable to render, please try loading this page with nbviewer.org.</b></div><div class=\"sk-container\" hidden><div class=\"sk-item\"><div class=\"sk-estimator fitted sk-toggleable\"><input class=\"sk-toggleable__control sk-hidden--visually\" id=\"sk-estimator-id-1\" type=\"checkbox\" checked><label for=\"sk-estimator-id-1\" class=\"sk-toggleable__label fitted sk-toggleable__label-arrow fitted\">&nbsp;&nbsp;StandardScaler<a class=\"sk-estimator-doc-link fitted\" rel=\"noreferrer\" target=\"_blank\" href=\"https://scikit-learn.org/1.5/modules/generated/sklearn.preprocessing.StandardScaler.html\">?<span>Documentation for StandardScaler</span></a><span class=\"sk-estimator-doc-link fitted\">i<span>Fitted</span></span></label><div class=\"sk-toggleable__content fitted\"><pre>StandardScaler()</pre></div> </div></div></div></div>"
      ],
      "text/plain": [
       "StandardScaler()"
      ]
     },
     "execution_count": 14,
     "metadata": {},
     "output_type": "execute_result"
    }
   ],
   "source": [
    "scaler = StandardScaler()\n",
    "scaler.fit(train.price.values.reshape((-1,1)))"
   ]
  },
  {
   "cell_type": "code",
   "execution_count": 16,
   "id": "4dc4ee17-2ca7-4f60-aac5-d4786a802400",
   "metadata": {},
   "outputs": [
    {
     "name": "stderr",
     "output_type": "stream",
     "text": [
      "/tmp/ipykernel_9613/2082512033.py:1: SettingWithCopyWarning: \n",
      "A value is trying to be set on a copy of a slice from a DataFrame.\n",
      "Try using .loc[row_indexer,col_indexer] = value instead\n",
      "\n",
      "See the caveats in the documentation: https://pandas.pydata.org/pandas-docs/stable/user_guide/indexing.html#returning-a-view-versus-a-copy\n",
      "  train['price'] = scaler.transform(train.price.values.reshape((-1,1)))\n",
      "/tmp/ipykernel_9613/2082512033.py:2: SettingWithCopyWarning: \n",
      "A value is trying to be set on a copy of a slice from a DataFrame.\n",
      "Try using .loc[row_indexer,col_indexer] = value instead\n",
      "\n",
      "See the caveats in the documentation: https://pandas.pydata.org/pandas-docs/stable/user_guide/indexing.html#returning-a-view-versus-a-copy\n",
      "  test['price'] = scaler.transform(test.price.values.reshape((-1,1)))\n"
     ]
    }
   ],
   "source": [
    "train['price'] = scaler.transform(train.price.values.reshape((-1,1)))\n",
    "test['price'] = scaler.transform(test.price.values.reshape((-1,1)))"
   ]
  },
  {
   "cell_type": "markdown",
   "id": "9bb29559-9bcb-49ef-aa71-7e609fcb9b7c",
   "metadata": {},
   "source": [
    "## Custom Dataset"
   ]
  },
  {
   "cell_type": "code",
   "execution_count": 18,
   "id": "3dadd1de-da42-41f7-9900-1009062ae152",
   "metadata": {
    "scrolled": true
   },
   "outputs": [],
   "source": [
    "class CustomDataset(Dataset):\n",
    "    def __init__(self, data, tokeniser, lag=7):\n",
    "        \"\"\"\n",
    "        Args:\n",
    "            data(np.ndarray): dim is (N , 1)\n",
    "            lag(int): context or window length\n",
    "        Remarks:\n",
    "            Max length of token is selected 512 with appropriate padding.\n",
    "        \"\"\"\n",
    "        self.X = list()\n",
    "        sentences = list()\n",
    "        self.y = list()\n",
    "        for i in range(len(data) - lag):\n",
    "            x = data[i : i + lag, 0]\n",
    "            y = data[i + lag, 0]\n",
    "            self.X.append(x.flatten())\n",
    "            self.y.append(y)\n",
    "            sentences.append(data[i+lag, 1])\n",
    "        self.X = torch.tensor(np.array(self.X, dtype=np.float32), dtype=torch.float32)\n",
    "        self.y = torch.tensor(np.array(self.y, dtype=np.float32), dtype=torch.float32)\n",
    "        self.tokens = list()\n",
    "        for text in sentences:\n",
    "            ids = tokeniser.encode(text, max_length=512, truncation=True, padding='max_length')\n",
    "            self.tokens.append(ids)\n",
    "        self.tokens = torch.tensor(self.tokens, dtype=torch.long)\n",
    "        mask_fn = lambda x: 1 if x!=0 else 0\n",
    "        self.attn_masks = torch.clone(self.tokens)\n",
    "        self.attn_masks.apply_(mask_fn)\n",
    "    def __len__(self):\n",
    "        return self.X.shape[0]\n",
    "\n",
    "    def __getitem__(self, idx):\n",
    "        return self.X[idx], self.tokens[idx], self.attn_masks[idx], self.y[idx]      "
   ]
  },
  {
   "cell_type": "code",
   "execution_count": null,
   "id": "6639ade2-e9ef-4066-8839-da4ffab8fb34",
   "metadata": {},
   "outputs": [],
   "source": []
  },
  {
   "cell_type": "markdown",
   "id": "cc5417f8-f538-4fdb-942c-fe613e903e15",
   "metadata": {},
   "source": [
    "## Model Building"
   ]
  },
  {
   "cell_type": "code",
   "execution_count": 22,
   "id": "53854d7d-4f39-41c6-8970-84ccfdac0058",
   "metadata": {},
   "outputs": [],
   "source": [
    "class CustomModel(nn.Module):\n",
    "    def __init__(self, in_size, hid_size):\n",
    "        super(CustomModel, self).__init__()\n",
    "        # Bert with last custom layer trainable\n",
    "        self.bert = torch.hub.load('huggingface/pytorch-transformers', 'model', 'bert-base-uncased')\n",
    "        for param in self.bert.parameters():\n",
    "            param.requires_grad = False\n",
    "        self.bert.pooler.dense = nn.Linear(768, 1, bias=True)\n",
    "        self.bert.pooler.activation = nn.Sigmoid()\n",
    "        # LSTM layer\n",
    "        self.lstm = nn.LSTM(\n",
    "            input_size=in_size,\n",
    "            hidden_size=hid_size,\n",
    "            batch_first=True\n",
    "            # proj_size=1,\n",
    "        )\n",
    "        self.proj = nn.Linear(in_features=hid_size, out_features=1)\n",
    "\n",
    "    def forward(self, x, tokens, mask):\n",
    "        y_bert = self.bert(tokens, attention_mask=mask)\n",
    "        y_bert = y_bert.pooler_output\n",
    "        y_lstm, _ = self.lstm(x)\n",
    "        y_lstm = self.proj(y_lstm)\n",
    "        y_pred = y_lstm + y_bert\n",
    "        return y_pred"
   ]
  },
  {
   "cell_type": "code",
   "execution_count": 24,
   "id": "a90da370-daff-41fd-8160-77d9ec024367",
   "metadata": {},
   "outputs": [
    {
     "name": "stderr",
     "output_type": "stream",
     "text": [
      "Using cache found in /home/arnab/.cache/torch/hub/huggingface_pytorch-transformers_main\n"
     ]
    }
   ],
   "source": [
    "tokenizer = torch.hub.load('huggingface/pytorch-transformers', 'tokenizer', 'bert-base-uncased')"
   ]
  },
  {
   "cell_type": "code",
   "execution_count": 33,
   "id": "1747140b-6043-46b4-9cd2-ea381ef23750",
   "metadata": {},
   "outputs": [],
   "source": [
    "def train_model(\n",
    "    model,\n",
    "    optimiser,\n",
    "    loss_fn,\n",
    "    epochs,\n",
    "    batch,\n",
    "    data,\n",
    "    lag,\n",
    "    tokeniser, \n",
    "    device\n",
    "):\n",
    "    dataset = CustomDataset(data, tokeniser, lag)\n",
    "    loader = DataLoader(dataset, batch_size=batch)\n",
    "    tr_losses = list()\n",
    "    val_losses = list()\n",
    "    model.to(device)\n",
    "\n",
    "    for i in range(epochs):\n",
    "        train_loss = list()\n",
    "        val_loss = list()\n",
    "        for j, (X, tokens, masks, y) in enumerate(loader):\n",
    "            n = X.shape[0]\n",
    "            tr_size = int(n*0.9)\n",
    "            y = y.reshape((-1,1))\n",
    "            X, tokens, masks, y = X.to(device), tokens.to(device), masks.to(device), y.to(device)\n",
    "            X_train, tokens_train = X[:tr_size, :],tokens[:tr_size, :] \n",
    "            mask_train, y_train = masks[:tr_size, :], y[:tr_size, :]\n",
    "            X_val, tokens_val,  = X[tr_size:, :], tokens[tr_size:, :] \n",
    "            mask_val, y_val = masks[tr_size:, :], y[tr_size:, :]\n",
    "\n",
    "            y_pred = model(X_train, tokens_train, mask_train)\n",
    "            loss = loss_fn(y_pred, y_train)\n",
    "\n",
    "            optimiser.zero_grad()\n",
    "            loss.backward()\n",
    "            optimiser.step()\n",
    "            train_loss.append(loss.item())\n",
    "            if (j+1)%3 == 0:\n",
    "                print(f\"Epoch - {i+1}, step - {j+1}, train_loss = {loss.item()}\")\n",
    "            with torch.no_grad():\n",
    "                y_pred_val = model(X_val, tokens_val, mask_val)\n",
    "                val_loss.append(loss_fn(y_pred_val, y_val).item())\n",
    "        tr_losses.append(np.mean(train_loss))\n",
    "        val_losses.append(np.mean(val_loss))\n",
    "    \n",
    "    return tr_losses, val_losses"
   ]
  },
  {
   "cell_type": "code",
   "execution_count": 37,
   "id": "922d3d61-9863-45ef-877b-d49822631784",
   "metadata": {},
   "outputs": [],
   "source": [
    "def train_10_epochs(model):\n",
    "    batch = 128\n",
    "    epochs = 10\n",
    "    # lags = list(range(4,12))\n",
    "    device = torch.device('cuda' if torch.cuda.is_available() else 'cpu')\n",
    "    optimiser = torch.optim.Adam(model.parameters(), lr=0.001)\n",
    "    loss_fn = nn.MSELoss()\n",
    "    tr_losses, val_losses = train_model(model, optimiser, loss_fn, epochs,\n",
    "                batch, train.values, lag, tokenizer, device)\n",
    "    return tr_losses, val_losses"
   ]
  },
  {
   "cell_type": "code",
   "execution_count": 35,
   "id": "163e7d26-6327-4c91-86ae-1caea89b9edc",
   "metadata": {},
   "outputs": [
    {
     "name": "stderr",
     "output_type": "stream",
     "text": [
      "Using cache found in /home/arnab/.cache/torch/hub/huggingface_pytorch-transformers_main\n"
     ]
    }
   ],
   "source": [
    "model = CustomModel(in_size=lag, hid_size=10)"
   ]
  },
  {
   "cell_type": "code",
   "execution_count": 39,
   "id": "8e974acf-d06f-4494-b6bd-509e4b02bd62",
   "metadata": {},
   "outputs": [
    {
     "name": "stdout",
     "output_type": "stream",
     "text": [
      "Epoch - 1, step - 3, train_loss = 0.7409502267837524\n",
      "Epoch - 2, step - 3, train_loss = 0.6881715059280396\n",
      "Epoch - 3, step - 3, train_loss = 0.6508200764656067\n",
      "Epoch - 4, step - 3, train_loss = 0.6159448027610779\n",
      "Epoch - 5, step - 3, train_loss = 0.5832130908966064\n",
      "Epoch - 6, step - 3, train_loss = 0.5530732274055481\n",
      "Epoch - 7, step - 3, train_loss = 0.5257119536399841\n",
      "Epoch - 8, step - 3, train_loss = 0.5008183717727661\n",
      "Epoch - 9, step - 3, train_loss = 0.4776493012905121\n",
      "Epoch - 10, step - 3, train_loss = 0.4553825259208679\n"
     ]
    }
   ],
   "source": [
    "training_loss, validation_loss = list(), list()\n",
    "loss1, loss2 = train_10_epochs(model)\n",
    "training_loss.extend(loss1)\n",
    "validation_loss.extend(loss2)"
   ]
  },
  {
   "cell_type": "code",
   "execution_count": 43,
   "id": "3323850a-2a2c-4ffa-b1de-22c22eb3bbf1",
   "metadata": {},
   "outputs": [
    {
     "name": "stdout",
     "output_type": "stream",
     "text": [
      "Epoch - 1, step - 3, train_loss = 0.4260759949684143\n",
      "Epoch - 2, step - 3, train_loss = 0.4029741883277893\n",
      "Epoch - 3, step - 3, train_loss = 0.37896281480789185\n",
      "Epoch - 4, step - 3, train_loss = 0.357134073972702\n",
      "Epoch - 5, step - 3, train_loss = 0.3394632637500763\n",
      "Epoch - 6, step - 3, train_loss = 0.3252420723438263\n",
      "Epoch - 7, step - 3, train_loss = 0.31181618571281433\n",
      "Epoch - 8, step - 3, train_loss = 0.29771924018859863\n",
      "Epoch - 9, step - 3, train_loss = 0.28379490971565247\n",
      "Epoch - 10, step - 3, train_loss = 0.2713209390640259\n"
     ]
    }
   ],
   "source": [
    "loss1, loss2 = train_10_epochs(model)\n",
    "training_loss.extend(loss1)\n",
    "validation_loss.extend(loss2)"
   ]
  },
  {
   "cell_type": "code",
   "execution_count": 57,
   "id": "77c07416-45f4-4311-86bd-c1a23b3db6be",
   "metadata": {},
   "outputs": [
    {
     "name": "stdout",
     "output_type": "stream",
     "text": [
      "Epoch - 1, step - 3, train_loss = 0.2601439356803894\n",
      "Epoch - 2, step - 3, train_loss = 0.2511632740497589\n",
      "Epoch - 3, step - 3, train_loss = 0.24226246774196625\n",
      "Epoch - 4, step - 3, train_loss = 0.23543603718280792\n",
      "Epoch - 5, step - 3, train_loss = 0.2301863431930542\n",
      "Epoch - 6, step - 3, train_loss = 0.22496463358402252\n",
      "Epoch - 7, step - 3, train_loss = 0.2194748818874359\n",
      "Epoch - 8, step - 3, train_loss = 0.21428550779819489\n",
      "Epoch - 9, step - 3, train_loss = 0.20949392020702362\n",
      "Epoch - 10, step - 3, train_loss = 0.20485319197177887\n"
     ]
    }
   ],
   "source": [
    "loss1, loss2 = train_10_epochs(model)\n",
    "training_loss.extend(loss1)\n",
    "validation_loss.extend(loss2)"
   ]
  },
  {
   "cell_type": "code",
   "execution_count": 63,
   "id": "27c68ae3-fc87-4fae-9d2a-c22f363ec277",
   "metadata": {},
   "outputs": [
    {
     "name": "stdout",
     "output_type": "stream",
     "text": [
      "Epoch - 1, step - 3, train_loss = 0.20438842475414276\n",
      "Epoch - 2, step - 3, train_loss = 0.19864116609096527\n",
      "Epoch - 3, step - 3, train_loss = 0.19232730567455292\n",
      "Epoch - 4, step - 3, train_loss = 0.18697085976600647\n",
      "Epoch - 5, step - 3, train_loss = 0.18188107013702393\n",
      "Epoch - 6, step - 3, train_loss = 0.17715103924274445\n",
      "Epoch - 7, step - 3, train_loss = 0.1720883995294571\n",
      "Epoch - 8, step - 3, train_loss = 0.16675978899002075\n",
      "Epoch - 9, step - 3, train_loss = 0.1618059128522873\n",
      "Epoch - 10, step - 3, train_loss = 0.1572655588388443\n"
     ]
    }
   ],
   "source": [
    "loss1, loss2 = train_10_epochs(model)\n",
    "training_loss.extend(loss1)\n",
    "validation_loss.extend(loss2)"
   ]
  },
  {
   "cell_type": "code",
   "execution_count": 73,
   "id": "2dbf89e6-220a-40a4-a77e-13ec70c1b82a",
   "metadata": {},
   "outputs": [
    {
     "name": "stdout",
     "output_type": "stream",
     "text": [
      "Epoch - 1, step - 3, train_loss = 0.15821319818496704\n",
      "Epoch - 2, step - 3, train_loss = 0.15047447383403778\n",
      "Epoch - 3, step - 3, train_loss = 0.14602980017662048\n",
      "Epoch - 4, step - 3, train_loss = 0.14223264157772064\n",
      "Epoch - 5, step - 3, train_loss = 0.13697560131549835\n",
      "Epoch - 6, step - 3, train_loss = 0.13250677287578583\n",
      "Epoch - 7, step - 3, train_loss = 0.1283145397901535\n",
      "Epoch - 8, step - 3, train_loss = 0.12387034296989441\n",
      "Epoch - 9, step - 3, train_loss = 0.1195925772190094\n",
      "Epoch - 10, step - 3, train_loss = 0.11541923880577087\n"
     ]
    }
   ],
   "source": [
    "loss1, loss2 = train_10_epochs(model)\n",
    "training_loss.extend(loss1)\n",
    "validation_loss.extend(loss2)"
   ]
  },
  {
   "cell_type": "code",
   "execution_count": 79,
   "id": "18da3dfd-36fc-4c52-aeb4-dea662179700",
   "metadata": {},
   "outputs": [
    {
     "name": "stdout",
     "output_type": "stream",
     "text": [
      "Epoch - 1, step - 3, train_loss = 0.11551350355148315\n",
      "Epoch - 2, step - 3, train_loss = 0.11096567660570145\n",
      "Epoch - 3, step - 3, train_loss = 0.10622014105319977\n",
      "Epoch - 4, step - 3, train_loss = 0.10080891847610474\n",
      "Epoch - 5, step - 3, train_loss = 0.09616127610206604\n",
      "Epoch - 6, step - 3, train_loss = 0.09196218103170395\n",
      "Epoch - 7, step - 3, train_loss = 0.08808332681655884\n",
      "Epoch - 8, step - 3, train_loss = 0.08385781943798065\n",
      "Epoch - 9, step - 3, train_loss = 0.08013235032558441\n",
      "Epoch - 10, step - 3, train_loss = 0.07667692005634308\n"
     ]
    }
   ],
   "source": [
    "loss1, loss2 = train_10_epochs(model)\n",
    "training_loss.extend(loss1)\n",
    "validation_loss.extend(loss2)"
   ]
  },
  {
   "cell_type": "code",
   "execution_count": 89,
   "id": "218b4220-c156-4287-b5a1-b8b58357f02d",
   "metadata": {},
   "outputs": [
    {
     "name": "stdout",
     "output_type": "stream",
     "text": [
      "Epoch - 1, step - 3, train_loss = 0.07566991448402405\n",
      "Epoch - 2, step - 3, train_loss = 0.07209610939025879\n",
      "Epoch - 3, step - 3, train_loss = 0.06875580549240112\n",
      "Epoch - 4, step - 3, train_loss = 0.06483656167984009\n",
      "Epoch - 5, step - 3, train_loss = 0.06119461730122566\n",
      "Epoch - 6, step - 3, train_loss = 0.05780947208404541\n",
      "Epoch - 7, step - 3, train_loss = 0.05464370176196098\n",
      "Epoch - 8, step - 3, train_loss = 0.051780980080366135\n",
      "Epoch - 9, step - 3, train_loss = 0.04901053011417389\n",
      "Epoch - 10, step - 3, train_loss = 0.04655234143137932\n"
     ]
    }
   ],
   "source": [
    "loss1, loss2 = train_10_epochs(model)\n",
    "training_loss.extend(loss1)\n",
    "validation_loss.extend(loss2)"
   ]
  },
  {
   "cell_type": "code",
   "execution_count": 98,
   "id": "8d0bd428-b4e2-4482-aa9c-a82e55eacc01",
   "metadata": {},
   "outputs": [
    {
     "name": "stdout",
     "output_type": "stream",
     "text": [
      "Epoch - 1, step - 3, train_loss = 0.04532845318317413\n",
      "Epoch - 2, step - 3, train_loss = 0.04338905215263367\n",
      "Epoch - 3, step - 3, train_loss = 0.04314214363694191\n",
      "Epoch - 4, step - 3, train_loss = 0.039414070546627045\n",
      "Epoch - 5, step - 3, train_loss = 0.03794245049357414\n",
      "Epoch - 6, step - 3, train_loss = 0.035714760422706604\n",
      "Epoch - 7, step - 3, train_loss = 0.034196916967630386\n",
      "Epoch - 8, step - 3, train_loss = 0.03283248096704483\n",
      "Epoch - 9, step - 3, train_loss = 0.03125527873635292\n",
      "Epoch - 10, step - 3, train_loss = 0.030152907595038414\n"
     ]
    }
   ],
   "source": [
    "loss1, loss2 = train_10_epochs(model)\n",
    "training_loss.extend(loss1)\n",
    "validation_loss.extend(loss2)"
   ]
  },
  {
   "cell_type": "code",
   "execution_count": 107,
   "id": "83e52aff-ac49-4fec-ad67-6d5c62208ea1",
   "metadata": {},
   "outputs": [
    {
     "name": "stdout",
     "output_type": "stream",
     "text": [
      "Epoch - 1, step - 3, train_loss = 0.029497934505343437\n",
      "Epoch - 2, step - 3, train_loss = 0.028395498171448708\n",
      "Epoch - 3, step - 3, train_loss = 0.030022775754332542\n",
      "Epoch - 4, step - 3, train_loss = 0.026317346841096878\n",
      "Epoch - 5, step - 3, train_loss = 0.025353236123919487\n",
      "Epoch - 6, step - 3, train_loss = 0.024249203503131866\n",
      "Epoch - 7, step - 3, train_loss = 0.02332703024148941\n",
      "Epoch - 8, step - 3, train_loss = 0.023076843470335007\n",
      "Epoch - 9, step - 3, train_loss = 0.02197479084134102\n",
      "Epoch - 10, step - 3, train_loss = 0.02157643809914589\n"
     ]
    }
   ],
   "source": [
    "loss1, loss2 = train_10_epochs(model)\n",
    "training_loss.extend(loss1)\n",
    "validation_loss.extend(loss2)"
   ]
  },
  {
   "cell_type": "code",
   "execution_count": 109,
   "id": "d8c35c29-cbce-4f80-9a5a-1a617e7f8b02",
   "metadata": {},
   "outputs": [],
   "source": [
    "with open('models/lstm_bert1_90ep.pkl', 'wb') as f:\n",
    "    pickle.dump(model, f)\n",
    "    f.close()"
   ]
  },
  {
   "cell_type": "code",
   "execution_count": 113,
   "id": "73655a32-e3c9-43bb-bd6c-ee620823bbdc",
   "metadata": {},
   "outputs": [
    {
     "data": {
      "image/png": "[encoded data removed]",
      "text/plain": [
       "<Figure size 640x480 with 1 Axes>"
      ]
     },
     "metadata": {},
     "output_type": "display_data"
    }
   ],
   "source": [
    "plt.plot(training_loss, label=\"Train Loss\")\n",
    "plt.plot(validation_loss, label=\"Validation Loss\")\n",
    "plt.legend()\n",
    "plt.title(f\"Window Size = {lag}\")\n",
    "plt.xlabel('Epochs')\n",
    "plt.ylabel('MSE Loss')\n",
    "plt.grid()\n",
    "plt.show()"
   ]
  },
  {
   "cell_type": "code",
   "execution_count": 115,
   "id": "1b36dcc1-560d-4398-b5e2-1ae463d35525",
   "metadata": {},
   "outputs": [],
   "source": [
    "# validation_loss[::-1][0:5]"
   ]
  },
  {
   "cell_type": "markdown",
   "id": "e16bd2d9-2679-4026-879e-bc99e1e6d335",
   "metadata": {},
   "source": [
    "## Inference"
   ]
  },
  {
   "cell_type": "code",
   "execution_count": 119,
   "id": "ba117dee-0299-4719-937f-e227e175fbb8",
   "metadata": {},
   "outputs": [],
   "source": [
    "testloader = DataLoader(CustomDataset(test.values,tokenizer, lag=7), batch_size=128)\n",
    "with open('models/lstm_bert1_90ep.pkl', 'rb') as f:\n",
    "    model = pickle.load(f)\n",
    "    f.close()\n",
    "device = torch.device('cuda' if torch.cuda.is_available() else 'cpu')\n",
    "model.to(device)\n",
    "actuals = list()\n",
    "predictions = list()\n",
    "\n",
    "for X, tokens, masks, y in testloader:\n",
    "    X, tokens, masks = X.to(device), tokens.to(device), masks.to(device)\n",
    "    y_pred = model(X, tokens, masks)\n",
    "    y = y.detach().cpu().numpy()\n",
    "    y_pred = y_pred.detach().cpu().numpy()\n",
    "    y = y.reshape((-1,1))\n",
    "    y = scaler.inverse_transform(y)\n",
    "    y_pred = scaler.inverse_transform(y_pred)\n",
    "    actuals.extend(y.flatten())\n",
    "    predictions.extend(y_pred.flatten())\n"
   ]
  },
  {
   "cell_type": "code",
   "execution_count": 121,
   "id": "2d72159b-38c5-4998-8e48-fb9a637b9e17",
   "metadata": {},
   "outputs": [
    {
     "data": {
      "image/png": "[encoded data removed]",
      "text/plain": [
       "<Figure size 1000x500 with 1 Axes>"
      ]
     },
     "metadata": {},
     "output_type": "display_data"
    }
   ],
   "source": [
    "plt.figure(figsize=(10,5))\n",
    "plt.plot(predictions, 'r--', label='predicted' )\n",
    "plt.plot(actuals, 'g--', label='actual')\n",
    "plt.legend()\n",
    "test_error = mean_squared_error(predictions, actuals)\n",
    "plt.grid()\n",
    "plt.title(f\"Test error - {test_error:0.3f}, forecasting window = 1\")\n",
    "plt.show()"
   ]
  },
  {
   "cell_type": "code",
   "execution_count": null,
   "id": "a0c4bf14-9883-4ded-a1f7-cea5dd2c3529",
   "metadata": {},
   "outputs": [],
   "source": []
  },
  {
   "cell_type": "code",
   "execution_count": 277,
   "id": "2ea6dadf-a47b-4038-932b-9a0d4b703289",
   "metadata": {},
   "outputs": [],
   "source": [
    "class ModelInference:\n",
    "    def __init__(self, model, device, tokeniser):\n",
    "        self.model = model\n",
    "        self.device = device\n",
    "        self.model.to(device)\n",
    "        self.tokeniser = tokeniser\n",
    "\n",
    "    def predict(self, x, tokens, mask, window=2):\n",
    "        \"\"\"\n",
    "        Args:\n",
    "            x (torch.tensor or np.ndarray): dimension (1, window_length) or (window_length, )\n",
    "        Returns:\n",
    "            y_pred(np.ndarray): dimension (1, window)\n",
    "        \"\"\"\n",
    "        inp = (x.flatten()).tolist()\n",
    "        inp_tokens = (tokens.flatten()).tolist()\n",
    "        mask = torch.unsqueeze(mask, 0)\n",
    "        pred = list()\n",
    "        for _ in range(window):\n",
    "            x = torch.tensor(np.array(inp), dtype=torch.float32)\n",
    "            tokens = torch.tensor(np.array(inp_tokens), dtype=torch.long)\n",
    "            x = torch.unsqueeze(x, 0)\n",
    "            tokens = torch.unsqueeze(tokens, 0)\n",
    "            x, tokens, mask = x.to(self.device), tokens.to(self.device), mask.to(self.device)\n",
    "            y_pred = model(x, tokens, mask)\n",
    "            y_pred = y_pred.item()\n",
    "            pred.append(y_pred)\n",
    "            inp.pop(0)\n",
    "            inp.append(y_pred)\n",
    "            # modify tokens\n",
    "            new = f\"today price {round(y_pred, 2)}\"\n",
    "            new_tokens = self.tokeniser.encode(new)\n",
    "            new_tokens.pop(-1) # remove [SEP] token\n",
    "            for i,new in enumerate(new_tokens):\n",
    "                inp_tokens[i] = new\n",
    "        pred = np.array(pred)\n",
    "        return pred"
   ]
  },
  {
   "cell_type": "code",
   "execution_count": 283,
   "id": "c6f2c6a8-af6f-4129-a445-349957ae363b",
   "metadata": {},
   "outputs": [],
   "source": [
    "device = torch.device('cuda' if torch.cuda.is_available() else 'cpu')\n",
    "inference = ModelInference(model, device, tokenizer)"
   ]
  },
  {
   "cell_type": "code",
   "execution_count": 285,
   "id": "155f0d79-26b5-4ae3-93c4-0ded992a0197",
   "metadata": {},
   "outputs": [],
   "source": [
    "testdataset = CustomDataset(test.values, tokenizer, lag=7)"
   ]
  },
  {
   "cell_type": "code",
   "execution_count": 286,
   "id": "b7525eb6-be16-4e51-a992-f7ec0ef128b9",
   "metadata": {},
   "outputs": [
    {
     "data": {
      "image/png": "[encoded data removed]",
      "text/plain": [
       "<Figure size 1000x500 with 1 Axes>"
      ]
     },
     "metadata": {},
     "output_type": "display_data"
    }
   ],
   "source": [
    "window = 2\n",
    "actual = list()\n",
    "predicted = list()\n",
    "for x, tokens, mask, y in testdataset:\n",
    "    # print(x.shape, tokens.shape, mask.shape)\n",
    "    y_pred = inference.predict(x, tokens, mask, window)[-1]\n",
    "    actual.append(y.item())\n",
    "    predicted.append(y_pred)\n",
    "actual = actual[window-1:]\n",
    "actual = np.array(actual)\n",
    "predicted = np.array(predicted)\n",
    "plt.figure(figsize=(10,5))\n",
    "plt.plot(predicted, 'r--', label='predicted' )\n",
    "plt.plot(actual, 'g--', label='actual')\n",
    "plt.legend()\n",
    "test_error = mean_squared_error(actual, predicted[0:-window+1])\n",
    "plt.title(f\"Test error - {test_error:0.3f}, forecasting window = {window}\")\n",
    "plt.grid()\n",
    "plt.show()"
   ]
  },
  {
   "cell_type": "code",
   "execution_count": null,
   "id": "6adb0d90-6ebc-44d7-b8fa-019cf89a0832",
   "metadata": {},
   "outputs": [],
   "source": []
  },
  {
   "cell_type": "code",
   "execution_count": null,
   "id": "928f5634-32fa-424f-955d-2e60f6a23ef9",
   "metadata": {},
   "outputs": [],
   "source": []
  }
 ],
 "metadata": {
  "kernelspec": {
   "display_name": "Python [conda env:base] *",
   "language": "python",
   "name": "conda-base-py"
  },
  "language_info": {
   "codemirror_mode": {
    "name": "ipython",
    "version": 3
   },
   "file_extension": ".py",
   "mimetype": "text/x-python",
   "name": "python",
   "nbconvert_exporter": "python",
   "pygments_lexer": "ipython3",
   "version": "3.12.7"
  }
 },
 "nbformat": 4,
 "nbformat_minor": 5
}
