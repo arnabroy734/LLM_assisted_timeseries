{
 "cells": [
  {
   "cell_type": "code",
   "execution_count": 4,
   "id": "3f1b9f64-3545-4113-bf02-dab6dd76d274",
   "metadata": {},
   "outputs": [],
   "source": [
    "import pandas as pd\n",
    "import re"
   ]
  },
  {
   "cell_type": "code",
   "execution_count": 6,
   "id": "679b49b2-ba8a-4b25-93e7-95a717df41fb",
   "metadata": {},
   "outputs": [],
   "source": [
    "import warnings\n",
    "warnings.filterwarnings('ignore')"
   ]
  },
  {
   "cell_type": "markdown",
   "id": "501897b0-aa86-4155-8d1a-c9fc76def42e",
   "metadata": {},
   "source": [
    "## Data Loading"
   ]
  },
  {
   "cell_type": "code",
   "execution_count": 9,
   "id": "f17e0c8e-9655-4853-a7ab-cbbd9b2f7478",
   "metadata": {},
   "outputs": [
    {
     "data": {
      "text/html": [
       "<div>\n",
       "<style scoped>\n",
       "    .dataframe tbody tr th:only-of-type {\n",
       "        vertical-align: middle;\n",
       "    }\n",
       "\n",
       "    .dataframe tbody tr th {\n",
       "        vertical-align: top;\n",
       "    }\n",
       "\n",
       "    .dataframe thead th {\n",
       "        text-align: right;\n",
       "    }\n",
       "</style>\n",
       "<table border=\"1\" class=\"dataframe\">\n",
       "  <thead>\n",
       "    <tr style=\"text-align: right;\">\n",
       "      <th></th>\n",
       "      <th>date</th>\n",
       "      <th>start_date</th>\n",
       "      <th>end_date</th>\n",
       "      <th>REGION TYPE</th>\n",
       "      <th>REGION</th>\n",
       "      <th>YEAR</th>\n",
       "      <th>WEEK</th>\n",
       "      <th>% WEIGHTED ILI</th>\n",
       "      <th>OT</th>\n",
       "      <th>AGE 0-4</th>\n",
       "      <th>...</th>\n",
       "      <th>ILITOTAL</th>\n",
       "      <th>NUM. OF PROVIDERS</th>\n",
       "      <th>TOTAL PATIENTS</th>\n",
       "      <th>YEAR_WEEK</th>\n",
       "      <th>prior_history_avg</th>\n",
       "      <th>prior_history_std</th>\n",
       "      <th>Final_Search_2</th>\n",
       "      <th>Final_Search_4</th>\n",
       "      <th>Final_Search_6</th>\n",
       "      <th>Final_Output</th>\n",
       "    </tr>\n",
       "  </thead>\n",
       "  <tbody>\n",
       "    <tr>\n",
       "      <th>0</th>\n",
       "      <td>1997-09-29</td>\n",
       "      <td>1997-09-29</td>\n",
       "      <td>1997-10-05</td>\n",
       "      <td>National</td>\n",
       "      <td>X</td>\n",
       "      <td>1997</td>\n",
       "      <td>40</td>\n",
       "      <td>1.10148</td>\n",
       "      <td>1.21686</td>\n",
       "      <td>179</td>\n",
       "      <td>...</td>\n",
       "      <td>570</td>\n",
       "      <td>192</td>\n",
       "      <td>46842</td>\n",
       "      <td>1997-40</td>\n",
       "      <td>0.0</td>\n",
       "      <td>0.0</td>\n",
       "      <td>Available facts are as follows: 1997-09-22: Za...</td>\n",
       "      <td>Available facts are as follows: 1997-09-22: Za...</td>\n",
       "      <td>Available facts are as follows: 1997-09-22: Za...</td>\n",
       "      <td>Based on the provided textual information, I p...</td>\n",
       "    </tr>\n",
       "    <tr>\n",
       "      <th>1</th>\n",
       "      <td>1997-10-06</td>\n",
       "      <td>1997-10-06</td>\n",
       "      <td>1997-10-12</td>\n",
       "      <td>National</td>\n",
       "      <td>X</td>\n",
       "      <td>1997</td>\n",
       "      <td>41</td>\n",
       "      <td>1.20007</td>\n",
       "      <td>1.28064</td>\n",
       "      <td>199</td>\n",
       "      <td>...</td>\n",
       "      <td>615</td>\n",
       "      <td>191</td>\n",
       "      <td>48023</td>\n",
       "      <td>1997-41</td>\n",
       "      <td>0.0</td>\n",
       "      <td>0.0</td>\n",
       "      <td>Available facts are as follows: 1997-09-29: Th...</td>\n",
       "      <td>Available facts are as follows: 1997-09-29: Th...</td>\n",
       "      <td>Available facts are as follows: 1997-09-29: Th...</td>\n",
       "      <td>Based on the provided textual information, my ...</td>\n",
       "    </tr>\n",
       "    <tr>\n",
       "      <th>2</th>\n",
       "      <td>1997-10-13</td>\n",
       "      <td>1997-10-13</td>\n",
       "      <td>1997-10-19</td>\n",
       "      <td>National</td>\n",
       "      <td>X</td>\n",
       "      <td>1997</td>\n",
       "      <td>42</td>\n",
       "      <td>1.37876</td>\n",
       "      <td>1.23906</td>\n",
       "      <td>228</td>\n",
       "      <td>...</td>\n",
       "      <td>681</td>\n",
       "      <td>219</td>\n",
       "      <td>54961</td>\n",
       "      <td>1997-42</td>\n",
       "      <td>0.0</td>\n",
       "      <td>0.0</td>\n",
       "      <td>Available facts are as follows: 1997-10-06: Th...</td>\n",
       "      <td>Available facts are as follows: 1997-10-06: Th...</td>\n",
       "      <td>Available facts are as follows: 1997-10-06: Th...</td>\n",
       "      <td>Based on the available textual information, I ...</td>\n",
       "    </tr>\n",
       "  </tbody>\n",
       "</table>\n",
       "<p>3 rows × 25 columns</p>\n",
       "</div>"
      ],
      "text/plain": [
       "         date  start_date    end_date REGION TYPE REGION  YEAR  WEEK  \\\n",
       "0  1997-09-29  1997-09-29  1997-10-05    National      X  1997    40   \n",
       "1  1997-10-06  1997-10-06  1997-10-12    National      X  1997    41   \n",
       "2  1997-10-13  1997-10-13  1997-10-19    National      X  1997    42   \n",
       "\n",
       "   % WEIGHTED ILI       OT  AGE 0-4  ... ILITOTAL NUM. OF PROVIDERS  \\\n",
       "0         1.10148  1.21686      179  ...      570               192   \n",
       "1         1.20007  1.28064      199  ...      615               191   \n",
       "2         1.37876  1.23906      228  ...      681               219   \n",
       "\n",
       "   TOTAL PATIENTS YEAR_WEEK  prior_history_avg  prior_history_std  \\\n",
       "0           46842   1997-40                0.0                0.0   \n",
       "1           48023   1997-41                0.0                0.0   \n",
       "2           54961   1997-42                0.0                0.0   \n",
       "\n",
       "                                      Final_Search_2  \\\n",
       "0  Available facts are as follows: 1997-09-22: Za...   \n",
       "1  Available facts are as follows: 1997-09-29: Th...   \n",
       "2  Available facts are as follows: 1997-10-06: Th...   \n",
       "\n",
       "                                      Final_Search_4  \\\n",
       "0  Available facts are as follows: 1997-09-22: Za...   \n",
       "1  Available facts are as follows: 1997-09-29: Th...   \n",
       "2  Available facts are as follows: 1997-10-06: Th...   \n",
       "\n",
       "                                      Final_Search_6  \\\n",
       "0  Available facts are as follows: 1997-09-22: Za...   \n",
       "1  Available facts are as follows: 1997-09-29: Th...   \n",
       "2  Available facts are as follows: 1997-10-06: Th...   \n",
       "\n",
       "                                        Final_Output  \n",
       "0  Based on the provided textual information, I p...  \n",
       "1  Based on the provided textual information, my ...  \n",
       "2  Based on the available textual information, I ...  \n",
       "\n",
       "[3 rows x 25 columns]"
      ]
     },
     "execution_count": 9,
     "metadata": {},
     "output_type": "execute_result"
    }
   ],
   "source": [
    "df = pd.read_csv('./data/health.csv')\n",
    "df.head(3)"
   ]
  },
  {
   "cell_type": "code",
   "execution_count": 11,
   "id": "f2907bbf-28c4-4620-9ccd-06609bb36ea3",
   "metadata": {},
   "outputs": [
    {
     "data": {
      "text/html": [
       "<div>\n",
       "<style scoped>\n",
       "    .dataframe tbody tr th:only-of-type {\n",
       "        vertical-align: middle;\n",
       "    }\n",
       "\n",
       "    .dataframe tbody tr th {\n",
       "        vertical-align: top;\n",
       "    }\n",
       "\n",
       "    .dataframe thead th {\n",
       "        text-align: right;\n",
       "    }\n",
       "</style>\n",
       "<table border=\"1\" class=\"dataframe\">\n",
       "  <thead>\n",
       "    <tr style=\"text-align: right;\">\n",
       "      <th></th>\n",
       "      <th>date</th>\n",
       "      <th>Final_Search_4</th>\n",
       "      <th>Final_Output</th>\n",
       "      <th>OT</th>\n",
       "    </tr>\n",
       "  </thead>\n",
       "  <tbody>\n",
       "    <tr>\n",
       "      <th>0</th>\n",
       "      <td>1997-09-29</td>\n",
       "      <td>Available facts are as follows: 1997-09-22: Za...</td>\n",
       "      <td>Based on the provided textual information, I p...</td>\n",
       "      <td>1.21686</td>\n",
       "    </tr>\n",
       "    <tr>\n",
       "      <th>1</th>\n",
       "      <td>1997-10-06</td>\n",
       "      <td>Available facts are as follows: 1997-09-29: Th...</td>\n",
       "      <td>Based on the provided textual information, my ...</td>\n",
       "      <td>1.28064</td>\n",
       "    </tr>\n",
       "    <tr>\n",
       "      <th>2</th>\n",
       "      <td>1997-10-13</td>\n",
       "      <td>Available facts are as follows: 1997-10-06: Th...</td>\n",
       "      <td>Based on the available textual information, I ...</td>\n",
       "      <td>1.23906</td>\n",
       "    </tr>\n",
       "  </tbody>\n",
       "</table>\n",
       "</div>"
      ],
      "text/plain": [
       "         date                                     Final_Search_4  \\\n",
       "0  1997-09-29  Available facts are as follows: 1997-09-22: Za...   \n",
       "1  1997-10-06  Available facts are as follows: 1997-09-29: Th...   \n",
       "2  1997-10-13  Available facts are as follows: 1997-10-06: Th...   \n",
       "\n",
       "                                        Final_Output       OT  \n",
       "0  Based on the provided textual information, I p...  1.21686  \n",
       "1  Based on the provided textual information, my ...  1.28064  \n",
       "2  Based on the available textual information, I ...  1.23906  "
      ]
     },
     "execution_count": 11,
     "metadata": {},
     "output_type": "execute_result"
    }
   ],
   "source": [
    "data = df[['date', 'Final_Search_4', 'Final_Output', 'OT' ]]\n",
    "data.head(3)"
   ]
  },
  {
   "cell_type": "code",
   "execution_count": 13,
   "id": "f97a8af7-c302-4436-a258-31c514b39a9c",
   "metadata": {},
   "outputs": [
    {
     "data": {
      "text/html": [
       "<div>\n",
       "<style scoped>\n",
       "    .dataframe tbody tr th:only-of-type {\n",
       "        vertical-align: middle;\n",
       "    }\n",
       "\n",
       "    .dataframe tbody tr th {\n",
       "        vertical-align: top;\n",
       "    }\n",
       "\n",
       "    .dataframe thead th {\n",
       "        text-align: right;\n",
       "    }\n",
       "</style>\n",
       "<table border=\"1\" class=\"dataframe\">\n",
       "  <thead>\n",
       "    <tr style=\"text-align: right;\">\n",
       "      <th></th>\n",
       "      <th>date</th>\n",
       "      <th>news</th>\n",
       "      <th>prediction</th>\n",
       "      <th>target</th>\n",
       "    </tr>\n",
       "  </thead>\n",
       "  <tbody>\n",
       "    <tr>\n",
       "      <th>0</th>\n",
       "      <td>1997-09-29</td>\n",
       "      <td>Available facts are as follows: 1997-09-22: Za...</td>\n",
       "      <td>Based on the provided textual information, I p...</td>\n",
       "      <td>1.21686</td>\n",
       "    </tr>\n",
       "    <tr>\n",
       "      <th>1</th>\n",
       "      <td>1997-10-06</td>\n",
       "      <td>Available facts are as follows: 1997-09-29: Th...</td>\n",
       "      <td>Based on the provided textual information, my ...</td>\n",
       "      <td>1.28064</td>\n",
       "    </tr>\n",
       "    <tr>\n",
       "      <th>2</th>\n",
       "      <td>1997-10-13</td>\n",
       "      <td>Available facts are as follows: 1997-10-06: Th...</td>\n",
       "      <td>Based on the available textual information, I ...</td>\n",
       "      <td>1.23906</td>\n",
       "    </tr>\n",
       "  </tbody>\n",
       "</table>\n",
       "</div>"
      ],
      "text/plain": [
       "         date                                               news  \\\n",
       "0  1997-09-29  Available facts are as follows: 1997-09-22: Za...   \n",
       "1  1997-10-06  Available facts are as follows: 1997-09-29: Th...   \n",
       "2  1997-10-13  Available facts are as follows: 1997-10-06: Th...   \n",
       "\n",
       "                                          prediction   target  \n",
       "0  Based on the provided textual information, I p...  1.21686  \n",
       "1  Based on the provided textual information, my ...  1.28064  \n",
       "2  Based on the available textual information, I ...  1.23906  "
      ]
     },
     "execution_count": 13,
     "metadata": {},
     "output_type": "execute_result"
    }
   ],
   "source": [
    "data.columns = ['date', 'news', 'prediction', 'target']\n",
    "data.head(3)"
   ]
  },
  {
   "cell_type": "markdown",
   "id": "ef491e3f-0e7d-47b1-b78a-3f6153fc3bd5",
   "metadata": {},
   "source": [
    "## Format the news data"
   ]
  },
  {
   "cell_type": "code",
   "execution_count": 15,
   "id": "7f3b3fbe-c058-4ebd-94ef-56abd32415de",
   "metadata": {},
   "outputs": [],
   "source": [
    "def remove_source(sentence):\n",
    "    clean = re.sub(r'\\[Source(:.*?)?\\]', \"\", sentence)\n",
    "    return clean\n",
    "def trim_sentence(sentence):\n",
    "    clean = re.sub(r'^Available facts are as follows:\\s*', \"\", sentence)\n",
    "    return clean\n",
    "def remove_space(sentence):\n",
    "    clean = re.sub(r\";\", \" \", sentence)\n",
    "    clean = re.sub(r\"\\s+\", \" \", clean).strip()\n",
    "    return clean\n",
    "def format_news_by_date_with_tags(text):\n",
    "    matches = re.findall(r'(\\d{4}-\\d{2}-\\d{2}):\\s*(.*?)(?=\\s+\\d{4}-\\d{2}-\\d{2}:|$)', text, re.DOTALL)\n",
    "\n",
    "    formatted_entries = []\n",
    "    for date, news in matches:\n",
    "        news = news.strip()\n",
    "        entry = f\"[DATE] {date}\\n[NEWS] {news}\"\n",
    "        formatted_entries.append(entry)\n",
    "    return \"\\n\\n\".join(formatted_entries)\n",
    "    \n",
    "def preprocess_text(sentence):\n",
    "    clean = trim_sentence(sentence)\n",
    "    clean = remove_source(clean)\n",
    "    clean = remove_space(clean)\n",
    "    clean = format_news_by_date_with_tags(clean)\n",
    "    return clean"
   ]
  },
  {
   "cell_type": "code",
   "execution_count": 17,
   "id": "3347f878-75c5-4034-aac3-c295e8e23ad8",
   "metadata": {},
   "outputs": [],
   "source": [
    "data['news'] = data['news'].map(preprocess_text)"
   ]
  },
  {
   "cell_type": "code",
   "execution_count": 19,
   "id": "e8813d90-85ea-4703-b055-946309d682f9",
   "metadata": {},
   "outputs": [
    {
     "name": "stdout",
     "output_type": "stream",
     "text": [
      "[DATE] 1997-12-01\n",
      "[NEWS] Influenza virus infection is controlled in CD4-depleted mice by CD8+ T cells through perforin or Fas-dependent mechanisms. The 1918 influenza virus was a major pandemic that affected the global response to infectious disease. In 1997, Massachusetts enacted the first general food adulteration law in the United States, and there was an outbreak of influenza. The Centers for Disease Control and Prevention (CDC) highlighted the importance of controlling infectious diseases, including influenza, in the United States.\n",
      "\n",
      "[DATE] 1997-11-24\n",
      "[NEWS] Influenza virus can spread through contaminated fomites, surfaces, toys, and utensils in child care environments.\n",
      "\n",
      "[DATE] 1997-11-17\n",
      "[NEWS] The causes of infection are usually influenza virus. Influenza occurred in the Falkland Islands. Baby hamster kidney cells are related to influenza virus.\n",
      "\n",
      "[DATE] 1997-11-10\n",
      "[NEWS] The World Health Organization (WHO) aims to detect influenza epidemics early to assist in the response. Influenza virus can be produced in cell cultures for vaccine development. The adjuvant MF59 can increase the immunogenicity and protective effects of influenza vaccines.\n"
     ]
    }
   ],
   "source": [
    "print(data['news'].iloc[10])"
   ]
  },
  {
   "cell_type": "markdown",
   "id": "2941377c-85a7-4b0d-a2e0-42c71ad94dcc",
   "metadata": {},
   "source": [
    "## Making last k weeks data as text\n",
    "## make user prompt"
   ]
  },
  {
   "cell_type": "code",
   "execution_count": 21,
   "id": "4f32f9b2-c8d2-416b-b55a-731ae2199c43",
   "metadata": {},
   "outputs": [],
   "source": [
    "k = 6"
   ]
  },
  {
   "cell_type": "code",
   "execution_count": 23,
   "id": "c9df17cf-6df7-4f94-9b4b-e4ae660cdd2d",
   "metadata": {},
   "outputs": [],
   "source": [
    "data['user'] = ''"
   ]
  },
  {
   "cell_type": "code",
   "execution_count": 25,
   "id": "c1ce72f1-a272-423b-8a5c-e096bb3e15d1",
   "metadata": {
    "scrolled": true
   },
   "outputs": [],
   "source": [
    "for i, (date, target) in enumerate(zip(data['date'], data['target'])):\n",
    "    text = ''\n",
    "    if i >= k:\n",
    "        for old_date, old_target in zip(data['date'].iloc[i-k:i], data['target'].iloc[i-k:i]):\n",
    "            text += f'[DATE]{old_date}, [INFECTION] {old_target}%\\n'\n",
    "        text += f'Predict infection on [DATE]{date}'\n",
    "        text = 'Available news of past: \\n' + data['news'].iloc[i] + '\\n Available infection data of past\\n' + text\n",
    "        data['user'].iloc[i] = text"
   ]
  },
  {
   "cell_type": "code",
   "execution_count": 27,
   "id": "12143b6b-e6ef-472c-9cf2-5f157d73f3f6",
   "metadata": {},
   "outputs": [
    {
     "name": "stdout",
     "output_type": "stream",
     "text": [
      "Available news of past: \n",
      "[DATE] 1997-11-10\n",
      "[NEWS] The World Health Organization (WHO) aims to detect influenza epidemics early to assist in the response. Influenza virus can be produced in cell cultures for vaccine development. The adjuvant MF59 can increase the immunogenicity and protective effects of influenza vaccines.\n",
      "\n",
      "[DATE] 1997-11-03\n",
      "[NEWS] In the United States, cardiovascular disease was the leading cause of death in the 20th century, and influenza was a major contributor to this mortality rate. In the 1990s, the U.S. Department of Health & Human Services had a Pandemic Influenza Plan in place. Influenza was considered an acute infectious disease of the mucous membranes in the 19th century.\n",
      "\n",
      "[DATE] 1997-10-27\n",
      "[NEWS] In 1997, American Indians in Nebraska reported a lower rate of flu vaccination compared to the general population in the United States. Influenza can cause fever, chills, headache, cough, sore throat, and muscle aches, and affects people of all ages.\n",
      "\n",
      "[DATE] 1997-10-20\n",
      "[NEWS] The Biosafety level 2 is known in the United States. Influenza virus type 3 and bovine respiratory syncitial virus were found in cattle. Intranasal administration is a potential vaccine delivery route for influenza virus, as it mimics the natural route of infection.\n",
      " Available infection data of past\n",
      "[DATE]1997-10-06, [INFECTION] 1.28064%\n",
      "[DATE]1997-10-13, [INFECTION] 1.23906%\n",
      "[DATE]1997-10-20, [INFECTION] 1.14473%\n",
      "[DATE]1997-10-27, [INFECTION] 1.26112%\n",
      "[DATE]1997-11-03, [INFECTION] 1.28275%\n",
      "[DATE]1997-11-10, [INFECTION] 1.44579%\n",
      "Predict infection on [DATE]1997-11-17\n"
     ]
    }
   ],
   "source": [
    "print(data['user'].iloc[7])"
   ]
  },
  {
   "cell_type": "markdown",
   "id": "1a31b56c-82cd-439f-b462-af551f1e48de",
   "metadata": {},
   "source": [
    "## Make Prompt\n",
    "* ### Define system prompt\n",
    "* ### Split in train test\n",
    "* ### Combine system prompt and user prompt\n",
    "* ### On train make the assistant prompt"
   ]
  },
  {
   "cell_type": "code",
   "execution_count": 30,
   "id": "1dfec49c-fa09-48f7-82a2-61ac576a4862",
   "metadata": {},
   "outputs": [],
   "source": [
    "SYSTEM_PROMPT = '''You are a time series forecasting assistant. Your task is to analyze the infection trends and aggregated public health news over the last several weeks, and accurately predict the influenza infection percentage for the upcoming week.\n",
    "\n",
    "- Use the past infection percentages to identify numerical trends.\n",
    "- Use the weekly news summaries to detect contextual factors. \n",
    "- Only pick relevant news that may inflence influenza infection. \n",
    "- Output the prediction in JSON format as:\n",
    "{\"target\": float, \"prediction\" : string}\n",
    "\n",
    "Ensure your prediction is consistent with both the data trends and the news events. Do not output anything other than the JSON.\n",
    "'''"
   ]
  },
  {
   "cell_type": "code",
   "execution_count": 34,
   "id": "c738959b-4efc-4934-b82c-1b7a497bf6f1",
   "metadata": {},
   "outputs": [
    {
     "data": {
      "text/html": [
       "<div>\n",
       "<style scoped>\n",
       "    .dataframe tbody tr th:only-of-type {\n",
       "        vertical-align: middle;\n",
       "    }\n",
       "\n",
       "    .dataframe tbody tr th {\n",
       "        vertical-align: top;\n",
       "    }\n",
       "\n",
       "    .dataframe thead th {\n",
       "        text-align: right;\n",
       "    }\n",
       "</style>\n",
       "<table border=\"1\" class=\"dataframe\">\n",
       "  <thead>\n",
       "    <tr style=\"text-align: right;\">\n",
       "      <th></th>\n",
       "      <th>date</th>\n",
       "      <th>news</th>\n",
       "      <th>prediction</th>\n",
       "      <th>target</th>\n",
       "      <th>user</th>\n",
       "    </tr>\n",
       "  </thead>\n",
       "  <tbody>\n",
       "    <tr>\n",
       "      <th>6</th>\n",
       "      <td>1997-11-10</td>\n",
       "      <td>[DATE] 1997-11-03\\n[NEWS] In the United States...</td>\n",
       "      <td>Based on the available facts, I predict that t...</td>\n",
       "      <td>1.44579</td>\n",
       "      <td>Available news of past: \\n[DATE] 1997-11-03\\n[...</td>\n",
       "    </tr>\n",
       "    <tr>\n",
       "      <th>7</th>\n",
       "      <td>1997-11-17</td>\n",
       "      <td>[DATE] 1997-11-10\\n[NEWS] The World Health Org...</td>\n",
       "      <td>Based on the provided text information from 19...</td>\n",
       "      <td>1.64796</td>\n",
       "      <td>Available news of past: \\n[DATE] 1997-11-10\\n[...</td>\n",
       "    </tr>\n",
       "    <tr>\n",
       "      <th>8</th>\n",
       "      <td>1997-11-24</td>\n",
       "      <td>[DATE] 1997-11-17\\n[NEWS] The causes of infect...</td>\n",
       "      <td>Here is a concise prediction about the influen...</td>\n",
       "      <td>1.67517</td>\n",
       "      <td>Available news of past: \\n[DATE] 1997-11-17\\n[...</td>\n",
       "    </tr>\n",
       "  </tbody>\n",
       "</table>\n",
       "</div>"
      ],
      "text/plain": [
       "         date                                               news  \\\n",
       "6  1997-11-10  [DATE] 1997-11-03\\n[NEWS] In the United States...   \n",
       "7  1997-11-17  [DATE] 1997-11-10\\n[NEWS] The World Health Org...   \n",
       "8  1997-11-24  [DATE] 1997-11-17\\n[NEWS] The causes of infect...   \n",
       "\n",
       "                                          prediction   target  \\\n",
       "6  Based on the available facts, I predict that t...  1.44579   \n",
       "7  Based on the provided text information from 19...  1.64796   \n",
       "8  Here is a concise prediction about the influen...  1.67517   \n",
       "\n",
       "                                                user  \n",
       "6  Available news of past: \\n[DATE] 1997-11-03\\n[...  \n",
       "7  Available news of past: \\n[DATE] 1997-11-10\\n[...  \n",
       "8  Available news of past: \\n[DATE] 1997-11-17\\n[...  "
      ]
     },
     "execution_count": 34,
     "metadata": {},
     "output_type": "execute_result"
    }
   ],
   "source": [
    "data = data[data['user'] != '']\n",
    "data.head(3)"
   ]
  },
  {
   "cell_type": "code",
   "execution_count": 36,
   "id": "557a867f-a276-48bc-a031-eb98fe06669d",
   "metadata": {},
   "outputs": [],
   "source": [
    "SYSTEM_HEADER = '<|start_header_id|>system<|end_header_id|>'\n",
    "USER_HEADER = '<|start_header_id|>user<|end_header_id|>'\n",
    "ASSISTANT_HEADER = '<|start_header_id|>assistant<|end_header_id|>'\n",
    "END = '<|eot_id|>'"
   ]
  },
  {
   "cell_type": "code",
   "execution_count": 38,
   "id": "0a6bbd19-0d92-48a0-96da-94aa70451154",
   "metadata": {},
   "outputs": [
    {
     "name": "stdout",
     "output_type": "stream",
     "text": [
      "(691, 5)\n",
      "(692, 5)\n"
     ]
    }
   ],
   "source": [
    "n = data.shape[0]\n",
    "tr_size = int(0.5*n)\n",
    "train_data = data[:tr_size]\n",
    "test_data = data[tr_size: ]\n",
    "print(train_data.shape)\n",
    "print(test_data.shape)"
   ]
  },
  {
   "cell_type": "code",
   "execution_count": 40,
   "id": "a018a76a-ac89-4548-9ca3-c22bf680a235",
   "metadata": {
    "scrolled": true
   },
   "outputs": [
    {
     "name": "stdout",
     "output_type": "stream",
     "text": [
      "<|start_header_id|>system<|end_header_id|>You are a time series forecasting assistant. Your task is to analyze the infection trends and aggregated public health news over the last several weeks, and accurately predict the influenza infection percentage for the upcoming week.\n",
      "\n",
      "- Use the past infection percentages to identify numerical trends.\n",
      "- Use the weekly news summaries to detect contextual factors. \n",
      "- Only pick relevant news that may inflence influenza infection. \n",
      "- Output the prediction in JSON format as:\n",
      "{\"target\": float, \"prediction\" : string}\n",
      "\n",
      "Ensure your prediction is consistent with both the data trends and the news events. Do not output anything other than the JSON.\n",
      "<|eot_id|><|start_header_id|>user<|end_header_id|>Available news of past: \n",
      "[DATE] 1998-01-05\n",
      "[NEWS] Objective facts about the Pulic Health and FLU situation:The publication types of a research article on AIDS and infectious disease death in HIV patients include Research Support, U.S. Gov't, P.H.S. Aerosol generating procedures are associated with influenza infection Pneumococcal vaccine, influenza vaccine, and hepatitis B vaccine are mentioned in the Federal Register Swine influenza virus infections are considered an important infection source\n",
      "\n",
      "[DATE] 1997-12-29\n",
      "[NEWS] Influenza immunization rates among non-elderly persons at high-risk for influenza are far below target levels in the United States. The mysterious bird flu virus, called A H5N1, surfaced in May 1997 and has infected at least 13 and likely as many as 20 people, four of whom have died. Aureus pneumonia occurs almost exclusively in the postviral influenza setting.\n",
      "\n",
      "[DATE] 1997-12-22\n",
      "[NEWS] The influenza epidemic took many more lives in the United States during the Great War. In the 18th century, influenza was also referred to as \"ye pu-trid or yellow fever\".\n",
      "\n",
      "[DATE] 1997-12-15\n",
      "[NEWS] The incidence of croup, a common manifestation of respiratory tract infection in children, is associated with human parainfluenza and influenza viruses. Human infection with avian influenza A(H5N1) has been identified in Hong Kong, with many cases being unusually severe. Dual respiratory virus infections, including influenzavirus A, have been identified in children. Influenza vaccine has been shown to be effective in reducing hospital admissions in children. Respiratory syncytial virus and rotavirus infections have a regular pattern, and interaction with other viral infections, such as influenza A virus infection, may play a role.\n",
      " Available infection data of past\n",
      "[DATE]1997-12-08, [INFECTION] 1.76632%\n",
      "[DATE]1997-12-15, [INFECTION] 2.10398%\n",
      "[DATE]1997-12-22, [INFECTION] 3.13655%\n",
      "[DATE]1997-12-29, [INFECTION] 3.7185%\n",
      "[DATE]1997-12-29, [INFECTION] 3.59225%\n",
      "[DATE]1998-01-05, [INFECTION] 3.68922%\n",
      "Predict infection on [DATE]1998-01-12<|eot_id|><|start_header_id|>assistant<|end_header_id|>{\"target\": 4.60396, \"prediction\": Based on the provided textual information, I predict that the influenza infection situation in the United States for the upcoming period will likely be severe, with a potential for increased hospitalizations and mortality, particularly among high-risk populations such as the non-elderly with underlying health conditions, due to low immunization rates and the emergence of virulent strains such as avian influenza A(H5N1).}<|eot_id|>\n"
     ]
    }
   ],
   "source": [
    "train_data['prompt'] = ''\n",
    "for i, (date, _, prediction, target, user, _) in enumerate(train_data.values):\n",
    "    system = SYSTEM_HEADER + SYSTEM_PROMPT + END\n",
    "    user_pr = USER_HEADER + user + END\n",
    "    assistant = ASSISTANT_HEADER + f'{{\"target\": {target}, \"prediction\": {prediction}}}' + END\n",
    "    final_prompt = system + user_pr + assistant\n",
    "    train_data['prompt'].iloc[i] = final_prompt\n",
    "print(train_data['prompt'].iloc[10])"
   ]
  },
  {
   "cell_type": "code",
   "execution_count": 42,
   "id": "b328bf40-b716-4502-a8df-7e2407d79b63",
   "metadata": {},
   "outputs": [
    {
     "name": "stdout",
     "output_type": "stream",
     "text": [
      "<|start_header_id|>system<|end_header_id|>You are a time series forecasting assistant. Your task is to analyze the infection trends and aggregated public health news over the last several weeks, and accurately predict the influenza infection percentage for the upcoming week.\n",
      "\n",
      "- Use the past infection percentages to identify numerical trends.\n",
      "- Use the weekly news summaries to detect contextual factors. \n",
      "- Only pick relevant news that may inflence influenza infection. \n",
      "- Output the prediction in JSON format as:\n",
      "{\"target\": float, \"prediction\" : string}\n",
      "\n",
      "Ensure your prediction is consistent with both the data trends and the news events. Do not output anything other than the JSON.\n",
      "<|eot_id|><|start_header_id|>user<|end_header_id|>Available news of past: \n",
      "[DATE] 2011-04-04\n",
      "[NEWS] Objective facts about the Pulic Health and FLU situation: The 2008-2009 live attenuated influenza vaccine (LAIV) was tested in ferrets and found to be effective . Maternal influenza infection during pregnancy can impact postnatal brain development in the rhesus monkey .\n",
      "\n",
      "[DATE] 2011-03-28\n",
      "[NEWS] The microbiota regulates immune defense against respiratory tract infections, including influenza virus infection. The 2009 influenza A/H1N1 pandemic in the USA was studied to understand the transmission parameters of the virus. Prior influenza infection induces heterosubtypic immunity that accelerates viral clearance of a second strain. The memory phase of the CD4 T-cell response to influenza virus infection involves the specificities present in the primary response to live influenza infection. During the 2011-2012 season, influenza surveillance activity was reported in Texas, USA. Oseltamivir treatment of mice before or after mild influenza infection was studied to understand its effects. The IHS Employee Immunization Program aims to reduce staff absenteeism during the influenza season and prevent influenza infection. Procalcitonin and C-reactive protein can be used to differentiate between mixed infection and H1N1 influenza infection. A patent search report on pandemic influenza preparedness was conducted by WIPO. The endocytic routes of influenza A virus infection involve dynamin-dependent, clathrin-mediated endocytosis (CME) and other pathways.\n",
      "\n",
      "[DATE] 2011-03-21\n",
      "[NEWS] Objective facts about the Pulic Health and FLU situation: Influenza infections can be missed in the GPRD (General Practice Research Database) that never came to the attention of the healthcare system . The incidence of secondary bacterial infection varies with the age and infirmity of the patient and the strain of infecting influenza virus .\n",
      "\n",
      "[DATE] 2011-03-14\n",
      "[NEWS] Objective facts about the Pulic Health and FLU situation:The inflammasome activation is required for adaptive immunity following respiratory infection with influenza virus . Influenza virus can prime mice for pneumonia from Staphylococcus aureus . Avian influenza is closely monitored in poultry, wild birds, and mammals in the United States . Pandemic (H1N1) 2009 virus has been detected in wildlife species in San Diego, California . Influenza-like illness levels remained above baseline in the United States but were decreasing .\n",
      " Available infection data of past\n",
      "[DATE]2011-02-28, [INFECTION] 2.72422%\n",
      "[DATE]2011-03-07, [INFECTION] 2.33336%\n",
      "[DATE]2011-03-14, [INFECTION] 1.925%\n",
      "[DATE]2011-03-21, [INFECTION] 1.75243%\n",
      "[DATE]2011-03-28, [INFECTION] 1.57704%\n",
      "[DATE]2011-04-04, [INFECTION] 1.35766%\n",
      "Predict infection on [DATE]2011-04-11<|eot_id|><|start_header_id|>assistant<|end_header_id|>\n"
     ]
    }
   ],
   "source": [
    "test_data['prompt'] = ''\n",
    "for i, (date, _, prediction, target, user, _) in enumerate(test_data.values):\n",
    "    system = SYSTEM_HEADER + SYSTEM_PROMPT + END\n",
    "    user_pr = USER_HEADER + user + END\n",
    "    assistant = ASSISTANT_HEADER\n",
    "    final_prompt = system + user_pr + assistant\n",
    "    test_data['prompt'].iloc[i] = final_prompt\n",
    "print(test_data['prompt'].iloc[10])"
   ]
  },
  {
   "cell_type": "code",
   "execution_count": 242,
   "id": "c065190a-bb49-4654-9919-09e142b0e5b2",
   "metadata": {},
   "outputs": [],
   "source": [
    "train_data.to_csv('./data/llama3_train_health.csv')\n",
    "test_data.to_csv('./data/llama3_test_health.csv')"
   ]
  },
  {
   "cell_type": "markdown",
   "id": "268d7ee0-04f0-48a0-b83e-b85c18dfdc61",
   "metadata": {},
   "source": [
    "## Make a dataset excluding news data"
   ]
  },
  {
   "cell_type": "code",
   "execution_count": 107,
   "id": "4c636154-3054-463a-bdbf-4e8269289a74",
   "metadata": {},
   "outputs": [],
   "source": [
    "df = pd.read_csv('./data/health.csv')\n",
    "data = df[['date', 'Final_Search_4', 'Final_Output', 'OT' ]]\n",
    "data.columns = ['date', 'news', 'prediction', 'target']"
   ]
  },
  {
   "cell_type": "code",
   "execution_count": 109,
   "id": "79edbeee-c115-4139-b983-61c37c145d5c",
   "metadata": {},
   "outputs": [],
   "source": [
    "data['user'] = ''"
   ]
  },
  {
   "cell_type": "code",
   "execution_count": 111,
   "id": "ebcb3795-fdcb-4260-9ff0-ceba92bcb559",
   "metadata": {},
   "outputs": [],
   "source": [
    "for i, (date, target) in enumerate(zip(data['date'], data['target'])):\n",
    "    text = ''\n",
    "    if i >= k:\n",
    "        for old_date, old_target in zip(data['date'].iloc[i-k:i], data['target'].iloc[i-k:i]):\n",
    "            text += f'[DATE]{old_date}, [INFECTION] {old_target}%\\n'\n",
    "        text += f'Predict infection on [DATE]{date}'\n",
    "        data['user'].iloc[i] = text"
   ]
  },
  {
   "cell_type": "code",
   "execution_count": 113,
   "id": "2f861756-e136-48e6-b340-51e82d6f3d66",
   "metadata": {},
   "outputs": [
    {
     "data": {
      "text/html": [
       "<div>\n",
       "<style scoped>\n",
       "    .dataframe tbody tr th:only-of-type {\n",
       "        vertical-align: middle;\n",
       "    }\n",
       "\n",
       "    .dataframe tbody tr th {\n",
       "        vertical-align: top;\n",
       "    }\n",
       "\n",
       "    .dataframe thead th {\n",
       "        text-align: right;\n",
       "    }\n",
       "</style>\n",
       "<table border=\"1\" class=\"dataframe\">\n",
       "  <thead>\n",
       "    <tr style=\"text-align: right;\">\n",
       "      <th></th>\n",
       "      <th>date</th>\n",
       "      <th>news</th>\n",
       "      <th>prediction</th>\n",
       "      <th>target</th>\n",
       "      <th>user</th>\n",
       "    </tr>\n",
       "  </thead>\n",
       "  <tbody>\n",
       "    <tr>\n",
       "      <th>6</th>\n",
       "      <td>1997-11-10</td>\n",
       "      <td>Available facts are as follows: 1997-11-03: In...</td>\n",
       "      <td>Based on the available facts, I predict that t...</td>\n",
       "      <td>1.44579</td>\n",
       "      <td>[DATE]1997-09-29, [INFECTION] 1.21686%\\n[DATE]...</td>\n",
       "    </tr>\n",
       "    <tr>\n",
       "      <th>7</th>\n",
       "      <td>1997-11-17</td>\n",
       "      <td>Available facts are as follows: 1997-11-10: Th...</td>\n",
       "      <td>Based on the provided text information from 19...</td>\n",
       "      <td>1.64796</td>\n",
       "      <td>[DATE]1997-10-06, [INFECTION] 1.28064%\\n[DATE]...</td>\n",
       "    </tr>\n",
       "    <tr>\n",
       "      <th>8</th>\n",
       "      <td>1997-11-24</td>\n",
       "      <td>Available facts are as follows: 1997-11-17: Th...</td>\n",
       "      <td>Here is a concise prediction about the influen...</td>\n",
       "      <td>1.67517</td>\n",
       "      <td>[DATE]1997-10-13, [INFECTION] 1.23906%\\n[DATE]...</td>\n",
       "    </tr>\n",
       "  </tbody>\n",
       "</table>\n",
       "</div>"
      ],
      "text/plain": [
       "         date                                               news  \\\n",
       "6  1997-11-10  Available facts are as follows: 1997-11-03: In...   \n",
       "7  1997-11-17  Available facts are as follows: 1997-11-10: Th...   \n",
       "8  1997-11-24  Available facts are as follows: 1997-11-17: Th...   \n",
       "\n",
       "                                          prediction   target  \\\n",
       "6  Based on the available facts, I predict that t...  1.44579   \n",
       "7  Based on the provided text information from 19...  1.64796   \n",
       "8  Here is a concise prediction about the influen...  1.67517   \n",
       "\n",
       "                                                user  \n",
       "6  [DATE]1997-09-29, [INFECTION] 1.21686%\\n[DATE]...  \n",
       "7  [DATE]1997-10-06, [INFECTION] 1.28064%\\n[DATE]...  \n",
       "8  [DATE]1997-10-13, [INFECTION] 1.23906%\\n[DATE]...  "
      ]
     },
     "execution_count": 113,
     "metadata": {},
     "output_type": "execute_result"
    }
   ],
   "source": [
    "data = data[data['user'] != '']\n",
    "data.head(3)"
   ]
  },
  {
   "cell_type": "code",
   "execution_count": 115,
   "id": "884933cf-c92b-4f50-ab5a-a1d9870abf48",
   "metadata": {},
   "outputs": [
    {
     "name": "stdout",
     "output_type": "stream",
     "text": [
      "[DATE]1997-12-08, [INFECTION] 1.76632%\n",
      "[DATE]1997-12-15, [INFECTION] 2.10398%\n",
      "[DATE]1997-12-22, [INFECTION] 3.13655%\n",
      "[DATE]1997-12-29, [INFECTION] 3.7185%\n",
      "[DATE]1997-12-29, [INFECTION] 3.59225%\n",
      "[DATE]1998-01-05, [INFECTION] 3.68922%\n",
      "Predict infection on [DATE]1998-01-12\n"
     ]
    }
   ],
   "source": [
    "print(data['user'].iloc[10])"
   ]
  },
  {
   "cell_type": "code",
   "execution_count": 117,
   "id": "62ecfed5-7212-4e0b-9905-8f4f33cf4c3e",
   "metadata": {},
   "outputs": [
    {
     "name": "stdout",
     "output_type": "stream",
     "text": [
      "(691, 5)\n",
      "(692, 5)\n"
     ]
    }
   ],
   "source": [
    "n = data.shape[0]\n",
    "tr_size = int(0.5*n)\n",
    "train_data = data[:tr_size]\n",
    "test_data = data[tr_size: ]\n",
    "print(train_data.shape)\n",
    "print(test_data.shape)"
   ]
  },
  {
   "cell_type": "code",
   "execution_count": 119,
   "id": "f66239db-cae8-49b8-b32f-b3e8c4d504de",
   "metadata": {},
   "outputs": [],
   "source": [
    "SYSTEM_PROMPT = '''You are a time series forecasting assistant. Your task is to analyze the influenza infection trends over the last several weeks, and accurately predict the influenza infection percentage for the upcoming week.\n",
    "\n",
    "- Use the past infection percentages to identify numerical trends.\n",
    "- Output the prediction in JSON format as:\n",
    "{\"target\": float}\n",
    "\n",
    "Ensure your prediction is consistent with both the data trends.Do not output anything other than the JSON.\n",
    "'''"
   ]
  },
  {
   "cell_type": "code",
   "execution_count": 121,
   "id": "d4045ce6-eecd-46a6-a24b-e3e3d82f53cc",
   "metadata": {},
   "outputs": [],
   "source": [
    "train_data['prompt'] = ''\n",
    "test_data['prompt'] = ''"
   ]
  },
  {
   "cell_type": "code",
   "execution_count": 123,
   "id": "464980b3-48f5-4b71-b9d2-091f9508c589",
   "metadata": {},
   "outputs": [
    {
     "name": "stdout",
     "output_type": "stream",
     "text": [
      "<|start_header_id|>system<|end_header_id|>You are a time series forecasting assistant. Your task is to analyze the influenza infection trends over the last several weeks, and accurately predict the influenza infection percentage for the upcoming week.\n",
      "\n",
      "- Use the past infection percentages to identify numerical trends.\n",
      "- Output the prediction in JSON format as:\n",
      "{\"target\": float}\n",
      "\n",
      "Ensure your prediction is consistent with both the data trends.Do not output anything other than the JSON.\n",
      "<|eot_id|><|start_header_id|>user<|end_header_id|>[DATE]1997-12-08, [INFECTION] 1.76632%\n",
      "[DATE]1997-12-15, [INFECTION] 2.10398%\n",
      "[DATE]1997-12-22, [INFECTION] 3.13655%\n",
      "[DATE]1997-12-29, [INFECTION] 3.7185%\n",
      "[DATE]1997-12-29, [INFECTION] 3.59225%\n",
      "[DATE]1998-01-05, [INFECTION] 3.68922%\n",
      "Predict infection on [DATE]1998-01-12<|eot_id|><|start_header_id|>assistant<|end_header_id|>{\"target\": 4.60396}<|eot_id|>\n"
     ]
    }
   ],
   "source": [
    "for i, (date, _, prediction, target, user, _) in enumerate(train_data.values):\n",
    "    system = SYSTEM_HEADER + SYSTEM_PROMPT + END\n",
    "    user_pr = USER_HEADER + user + END\n",
    "    assistant = ASSISTANT_HEADER + f'{{\"target\": {target}}}' + END\n",
    "    final_prompt = system + user_pr + assistant\n",
    "    train_data['prompt'].iloc[i] = final_prompt\n",
    "print(train_data['prompt'].iloc[10])"
   ]
  },
  {
   "cell_type": "code",
   "execution_count": 125,
   "id": "84d5dc14-ebba-4db2-b3d8-1f60a17cd51e",
   "metadata": {},
   "outputs": [
    {
     "name": "stdout",
     "output_type": "stream",
     "text": [
      "<|start_header_id|>system<|end_header_id|>You are a time series forecasting assistant. Your task is to analyze the influenza infection trends over the last several weeks, and accurately predict the influenza infection percentage for the upcoming week.\n",
      "\n",
      "- Use the past infection percentages to identify numerical trends.\n",
      "- Output the prediction in JSON format as:\n",
      "{\"target\": float}\n",
      "\n",
      "Ensure your prediction is consistent with both the data trends.Do not output anything other than the JSON.\n",
      "<|eot_id|><|start_header_id|>user<|end_header_id|>[DATE]2011-02-28, [INFECTION] 2.72422%\n",
      "[DATE]2011-03-07, [INFECTION] 2.33336%\n",
      "[DATE]2011-03-14, [INFECTION] 1.925%\n",
      "[DATE]2011-03-21, [INFECTION] 1.75243%\n",
      "[DATE]2011-03-28, [INFECTION] 1.57704%\n",
      "[DATE]2011-04-04, [INFECTION] 1.35766%\n",
      "Predict infection on [DATE]2011-04-11<|eot_id|><|start_header_id|>assistant<|end_header_id|>\n"
     ]
    }
   ],
   "source": [
    "for i, (date, _, prediction, target, user, _) in enumerate(test_data.values):\n",
    "    system = SYSTEM_HEADER + SYSTEM_PROMPT + END\n",
    "    user_pr = USER_HEADER + user + END\n",
    "    assistant = ASSISTANT_HEADER\n",
    "    final_prompt = system + user_pr + assistant\n",
    "    test_data['prompt'].iloc[i] = final_prompt\n",
    "print(test_data['prompt'].iloc[10])"
   ]
  },
  {
   "cell_type": "code",
   "execution_count": 130,
   "id": "fa0c7d65-135d-4af0-a08b-edf73b4d073c",
   "metadata": {},
   "outputs": [],
   "source": [
    "train_data.to_csv('./data/llama_health_train_wo_news.csv')\n",
    "test_data.to_csv('./data/llama_health_test_wo_news.csv')"
   ]
  },
  {
   "cell_type": "code",
   "execution_count": null,
   "id": "1cb4795d-81a6-4f58-a3d3-ba71238b715c",
   "metadata": {},
   "outputs": [],
   "source": []
  }
 ],
 "metadata": {
  "kernelspec": {
   "display_name": "llm_finetune(Python3.11)",
   "language": "python",
   "name": "llm"
  },
  "language_info": {
   "codemirror_mode": {
    "name": "ipython",
    "version": 3
   },
   "file_extension": ".py",
   "mimetype": "text/x-python",
   "name": "python",
   "nbconvert_exporter": "python",
   "pygments_lexer": "ipython3",
   "version": "3.11.0"
  }
 },
 "nbformat": 4,
 "nbformat_minor": 5
}
